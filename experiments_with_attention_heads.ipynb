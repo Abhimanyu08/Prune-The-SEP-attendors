{
  "nbformat": 4,
  "nbformat_minor": 0,
  "metadata": {
    "colab": {
      "name": "experiments_with_attention_heads.ipynb",
      "provenance": [],
      "collapsed_sections": []
    },
    "kernelspec": {
      "display_name": "Python 3",
      "language": "python",
      "name": "python3"
    },
    "language_info": {
      "codemirror_mode": {
        "name": "ipython",
        "version": 3
      },
      "file_extension": ".py",
      "mimetype": "text/x-python",
      "name": "python",
      "nbconvert_exporter": "python",
      "pygments_lexer": "ipython3",
      "version": "3.9.5"
    },
    "widgets": {
      "application/vnd.jupyter.widget-state+json": {
        "e1e8525879f0419889700859ee19f92f": {
          "model_module": "@jupyter-widgets/controls",
          "model_name": "HBoxModel",
          "state": {
            "_view_name": "HBoxView",
            "_dom_classes": [],
            "_model_name": "HBoxModel",
            "_view_module": "@jupyter-widgets/controls",
            "_model_module_version": "1.5.0",
            "_view_count": null,
            "_view_module_version": "1.5.0",
            "box_style": "",
            "layout": "IPY_MODEL_8fcb695ef9844648bf5f46848d0bd2ee",
            "_model_module": "@jupyter-widgets/controls",
            "children": [
              "IPY_MODEL_b3d1f749ba5749668f20fc2ef6483fe9",
              "IPY_MODEL_e82f1beac1de45e1b2531677ef65ae27"
            ]
          }
        },
        "8fcb695ef9844648bf5f46848d0bd2ee": {
          "model_module": "@jupyter-widgets/base",
          "model_name": "LayoutModel",
          "state": {
            "_view_name": "LayoutView",
            "grid_template_rows": null,
            "right": null,
            "justify_content": null,
            "_view_module": "@jupyter-widgets/base",
            "overflow": null,
            "_model_module_version": "1.2.0",
            "_view_count": null,
            "flex_flow": null,
            "width": null,
            "min_width": null,
            "border": null,
            "align_items": null,
            "bottom": null,
            "_model_module": "@jupyter-widgets/base",
            "top": null,
            "grid_column": null,
            "overflow_y": null,
            "overflow_x": null,
            "grid_auto_flow": null,
            "grid_area": null,
            "grid_template_columns": null,
            "flex": null,
            "_model_name": "LayoutModel",
            "justify_items": null,
            "grid_row": null,
            "max_height": null,
            "align_content": null,
            "visibility": null,
            "align_self": null,
            "height": null,
            "min_height": null,
            "padding": null,
            "grid_auto_rows": null,
            "grid_gap": null,
            "max_width": null,
            "order": null,
            "_view_module_version": "1.2.0",
            "grid_template_areas": null,
            "object_position": null,
            "object_fit": null,
            "grid_auto_columns": null,
            "margin": null,
            "display": null,
            "left": null
          }
        },
        "b3d1f749ba5749668f20fc2ef6483fe9": {
          "model_module": "@jupyter-widgets/controls",
          "model_name": "FloatProgressModel",
          "state": {
            "_view_name": "ProgressView",
            "style": "IPY_MODEL_ec6619aa76604031a9e9cb957deb30c6",
            "_dom_classes": [],
            "description": "Downloading: 100%",
            "_model_name": "FloatProgressModel",
            "bar_style": "success",
            "max": 622,
            "_view_module": "@jupyter-widgets/controls",
            "_model_module_version": "1.5.0",
            "value": 622,
            "_view_count": null,
            "_view_module_version": "1.5.0",
            "orientation": "horizontal",
            "min": 0,
            "description_tooltip": null,
            "_model_module": "@jupyter-widgets/controls",
            "layout": "IPY_MODEL_b699a2f4617e4a118cb6879ace3b0f8b"
          }
        },
        "e82f1beac1de45e1b2531677ef65ae27": {
          "model_module": "@jupyter-widgets/controls",
          "model_name": "HTMLModel",
          "state": {
            "_view_name": "HTMLView",
            "style": "IPY_MODEL_bdbcd69459b44d0da602b70be2f29726",
            "_dom_classes": [],
            "description": "",
            "_model_name": "HTMLModel",
            "placeholder": "​",
            "_view_module": "@jupyter-widgets/controls",
            "_model_module_version": "1.5.0",
            "value": " 622/622 [00:00&lt;00:00, 1.82kB/s]",
            "_view_count": null,
            "_view_module_version": "1.5.0",
            "description_tooltip": null,
            "_model_module": "@jupyter-widgets/controls",
            "layout": "IPY_MODEL_f7bfffd11795433a8efb6cd7847bb607"
          }
        },
        "ec6619aa76604031a9e9cb957deb30c6": {
          "model_module": "@jupyter-widgets/controls",
          "model_name": "ProgressStyleModel",
          "state": {
            "_view_name": "StyleView",
            "_model_name": "ProgressStyleModel",
            "description_width": "initial",
            "_view_module": "@jupyter-widgets/base",
            "_model_module_version": "1.5.0",
            "_view_count": null,
            "_view_module_version": "1.2.0",
            "bar_color": null,
            "_model_module": "@jupyter-widgets/controls"
          }
        },
        "b699a2f4617e4a118cb6879ace3b0f8b": {
          "model_module": "@jupyter-widgets/base",
          "model_name": "LayoutModel",
          "state": {
            "_view_name": "LayoutView",
            "grid_template_rows": null,
            "right": null,
            "justify_content": null,
            "_view_module": "@jupyter-widgets/base",
            "overflow": null,
            "_model_module_version": "1.2.0",
            "_view_count": null,
            "flex_flow": null,
            "width": null,
            "min_width": null,
            "border": null,
            "align_items": null,
            "bottom": null,
            "_model_module": "@jupyter-widgets/base",
            "top": null,
            "grid_column": null,
            "overflow_y": null,
            "overflow_x": null,
            "grid_auto_flow": null,
            "grid_area": null,
            "grid_template_columns": null,
            "flex": null,
            "_model_name": "LayoutModel",
            "justify_items": null,
            "grid_row": null,
            "max_height": null,
            "align_content": null,
            "visibility": null,
            "align_self": null,
            "height": null,
            "min_height": null,
            "padding": null,
            "grid_auto_rows": null,
            "grid_gap": null,
            "max_width": null,
            "order": null,
            "_view_module_version": "1.2.0",
            "grid_template_areas": null,
            "object_position": null,
            "object_fit": null,
            "grid_auto_columns": null,
            "margin": null,
            "display": null,
            "left": null
          }
        },
        "bdbcd69459b44d0da602b70be2f29726": {
          "model_module": "@jupyter-widgets/controls",
          "model_name": "DescriptionStyleModel",
          "state": {
            "_view_name": "StyleView",
            "_model_name": "DescriptionStyleModel",
            "description_width": "",
            "_view_module": "@jupyter-widgets/base",
            "_model_module_version": "1.5.0",
            "_view_count": null,
            "_view_module_version": "1.2.0",
            "_model_module": "@jupyter-widgets/controls"
          }
        },
        "f7bfffd11795433a8efb6cd7847bb607": {
          "model_module": "@jupyter-widgets/base",
          "model_name": "LayoutModel",
          "state": {
            "_view_name": "LayoutView",
            "grid_template_rows": null,
            "right": null,
            "justify_content": null,
            "_view_module": "@jupyter-widgets/base",
            "overflow": null,
            "_model_module_version": "1.2.0",
            "_view_count": null,
            "flex_flow": null,
            "width": null,
            "min_width": null,
            "border": null,
            "align_items": null,
            "bottom": null,
            "_model_module": "@jupyter-widgets/base",
            "top": null,
            "grid_column": null,
            "overflow_y": null,
            "overflow_x": null,
            "grid_auto_flow": null,
            "grid_area": null,
            "grid_template_columns": null,
            "flex": null,
            "_model_name": "LayoutModel",
            "justify_items": null,
            "grid_row": null,
            "max_height": null,
            "align_content": null,
            "visibility": null,
            "align_self": null,
            "height": null,
            "min_height": null,
            "padding": null,
            "grid_auto_rows": null,
            "grid_gap": null,
            "max_width": null,
            "order": null,
            "_view_module_version": "1.2.0",
            "grid_template_areas": null,
            "object_position": null,
            "object_fit": null,
            "grid_auto_columns": null,
            "margin": null,
            "display": null,
            "left": null
          }
        },
        "042786f55c6a4e6eb69bd1199a6ad106": {
          "model_module": "@jupyter-widgets/controls",
          "model_name": "HBoxModel",
          "state": {
            "_view_name": "HBoxView",
            "_dom_classes": [],
            "_model_name": "HBoxModel",
            "_view_module": "@jupyter-widgets/controls",
            "_model_module_version": "1.5.0",
            "_view_count": null,
            "_view_module_version": "1.5.0",
            "box_style": "",
            "layout": "IPY_MODEL_78804f2a26274d87801ddd78e9dcdbe2",
            "_model_module": "@jupyter-widgets/controls",
            "children": [
              "IPY_MODEL_0608ebd0447e43f499be6e7ee6fcdf06",
              "IPY_MODEL_3429fc7d168648a9b0efb8fff5ffed62"
            ]
          }
        },
        "78804f2a26274d87801ddd78e9dcdbe2": {
          "model_module": "@jupyter-widgets/base",
          "model_name": "LayoutModel",
          "state": {
            "_view_name": "LayoutView",
            "grid_template_rows": null,
            "right": null,
            "justify_content": null,
            "_view_module": "@jupyter-widgets/base",
            "overflow": null,
            "_model_module_version": "1.2.0",
            "_view_count": null,
            "flex_flow": null,
            "width": null,
            "min_width": null,
            "border": null,
            "align_items": null,
            "bottom": null,
            "_model_module": "@jupyter-widgets/base",
            "top": null,
            "grid_column": null,
            "overflow_y": null,
            "overflow_x": null,
            "grid_auto_flow": null,
            "grid_area": null,
            "grid_template_columns": null,
            "flex": null,
            "_model_name": "LayoutModel",
            "justify_items": null,
            "grid_row": null,
            "max_height": null,
            "align_content": null,
            "visibility": null,
            "align_self": null,
            "height": null,
            "min_height": null,
            "padding": null,
            "grid_auto_rows": null,
            "grid_gap": null,
            "max_width": null,
            "order": null,
            "_view_module_version": "1.2.0",
            "grid_template_areas": null,
            "object_position": null,
            "object_fit": null,
            "grid_auto_columns": null,
            "margin": null,
            "display": null,
            "left": null
          }
        },
        "0608ebd0447e43f499be6e7ee6fcdf06": {
          "model_module": "@jupyter-widgets/controls",
          "model_name": "FloatProgressModel",
          "state": {
            "_view_name": "ProgressView",
            "style": "IPY_MODEL_42007fd9beb348a7aaf1fc9a3a160301",
            "_dom_classes": [],
            "description": "Downloading: 100%",
            "_model_name": "FloatProgressModel",
            "bar_style": "success",
            "max": 433333375,
            "_view_module": "@jupyter-widgets/controls",
            "_model_module_version": "1.5.0",
            "value": 433333375,
            "_view_count": null,
            "_view_module_version": "1.5.0",
            "orientation": "horizontal",
            "min": 0,
            "description_tooltip": null,
            "_model_module": "@jupyter-widgets/controls",
            "layout": "IPY_MODEL_8da859722dd74cf1b9ba6805d34706a7"
          }
        },
        "3429fc7d168648a9b0efb8fff5ffed62": {
          "model_module": "@jupyter-widgets/controls",
          "model_name": "HTMLModel",
          "state": {
            "_view_name": "HTMLView",
            "style": "IPY_MODEL_9984fe819fce462e8d11820dfb226f7c",
            "_dom_classes": [],
            "description": "",
            "_model_name": "HTMLModel",
            "placeholder": "​",
            "_view_module": "@jupyter-widgets/controls",
            "_model_module_version": "1.5.0",
            "value": " 433M/433M [00:11&lt;00:00, 37.6MB/s]",
            "_view_count": null,
            "_view_module_version": "1.5.0",
            "description_tooltip": null,
            "_model_module": "@jupyter-widgets/controls",
            "layout": "IPY_MODEL_942b2b83d505422fb3838f01f37e05ee"
          }
        },
        "42007fd9beb348a7aaf1fc9a3a160301": {
          "model_module": "@jupyter-widgets/controls",
          "model_name": "ProgressStyleModel",
          "state": {
            "_view_name": "StyleView",
            "_model_name": "ProgressStyleModel",
            "description_width": "initial",
            "_view_module": "@jupyter-widgets/base",
            "_model_module_version": "1.5.0",
            "_view_count": null,
            "_view_module_version": "1.2.0",
            "bar_color": null,
            "_model_module": "@jupyter-widgets/controls"
          }
        },
        "8da859722dd74cf1b9ba6805d34706a7": {
          "model_module": "@jupyter-widgets/base",
          "model_name": "LayoutModel",
          "state": {
            "_view_name": "LayoutView",
            "grid_template_rows": null,
            "right": null,
            "justify_content": null,
            "_view_module": "@jupyter-widgets/base",
            "overflow": null,
            "_model_module_version": "1.2.0",
            "_view_count": null,
            "flex_flow": null,
            "width": null,
            "min_width": null,
            "border": null,
            "align_items": null,
            "bottom": null,
            "_model_module": "@jupyter-widgets/base",
            "top": null,
            "grid_column": null,
            "overflow_y": null,
            "overflow_x": null,
            "grid_auto_flow": null,
            "grid_area": null,
            "grid_template_columns": null,
            "flex": null,
            "_model_name": "LayoutModel",
            "justify_items": null,
            "grid_row": null,
            "max_height": null,
            "align_content": null,
            "visibility": null,
            "align_self": null,
            "height": null,
            "min_height": null,
            "padding": null,
            "grid_auto_rows": null,
            "grid_gap": null,
            "max_width": null,
            "order": null,
            "_view_module_version": "1.2.0",
            "grid_template_areas": null,
            "object_position": null,
            "object_fit": null,
            "grid_auto_columns": null,
            "margin": null,
            "display": null,
            "left": null
          }
        },
        "9984fe819fce462e8d11820dfb226f7c": {
          "model_module": "@jupyter-widgets/controls",
          "model_name": "DescriptionStyleModel",
          "state": {
            "_view_name": "StyleView",
            "_model_name": "DescriptionStyleModel",
            "description_width": "",
            "_view_module": "@jupyter-widgets/base",
            "_model_module_version": "1.5.0",
            "_view_count": null,
            "_view_module_version": "1.2.0",
            "_model_module": "@jupyter-widgets/controls"
          }
        },
        "942b2b83d505422fb3838f01f37e05ee": {
          "model_module": "@jupyter-widgets/base",
          "model_name": "LayoutModel",
          "state": {
            "_view_name": "LayoutView",
            "grid_template_rows": null,
            "right": null,
            "justify_content": null,
            "_view_module": "@jupyter-widgets/base",
            "overflow": null,
            "_model_module_version": "1.2.0",
            "_view_count": null,
            "flex_flow": null,
            "width": null,
            "min_width": null,
            "border": null,
            "align_items": null,
            "bottom": null,
            "_model_module": "@jupyter-widgets/base",
            "top": null,
            "grid_column": null,
            "overflow_y": null,
            "overflow_x": null,
            "grid_auto_flow": null,
            "grid_area": null,
            "grid_template_columns": null,
            "flex": null,
            "_model_name": "LayoutModel",
            "justify_items": null,
            "grid_row": null,
            "max_height": null,
            "align_content": null,
            "visibility": null,
            "align_self": null,
            "height": null,
            "min_height": null,
            "padding": null,
            "grid_auto_rows": null,
            "grid_gap": null,
            "max_width": null,
            "order": null,
            "_view_module_version": "1.2.0",
            "grid_template_areas": null,
            "object_position": null,
            "object_fit": null,
            "grid_auto_columns": null,
            "margin": null,
            "display": null,
            "left": null
          }
        },
        "49ad7baeebd348a3a69cd5c9f65a61bc": {
          "model_module": "@jupyter-widgets/controls",
          "model_name": "HBoxModel",
          "state": {
            "_view_name": "HBoxView",
            "_dom_classes": [],
            "_model_name": "HBoxModel",
            "_view_module": "@jupyter-widgets/controls",
            "_model_module_version": "1.5.0",
            "_view_count": null,
            "_view_module_version": "1.5.0",
            "box_style": "",
            "layout": "IPY_MODEL_3e7f495fa7fc4960ab726df06d6f0198",
            "_model_module": "@jupyter-widgets/controls",
            "children": [
              "IPY_MODEL_9f61407f291d4d97989146b0e7245b11",
              "IPY_MODEL_b739b2e16a51414e85382532ca5c45d4"
            ]
          }
        },
        "3e7f495fa7fc4960ab726df06d6f0198": {
          "model_module": "@jupyter-widgets/base",
          "model_name": "LayoutModel",
          "state": {
            "_view_name": "LayoutView",
            "grid_template_rows": null,
            "right": null,
            "justify_content": null,
            "_view_module": "@jupyter-widgets/base",
            "overflow": null,
            "_model_module_version": "1.2.0",
            "_view_count": null,
            "flex_flow": null,
            "width": null,
            "min_width": null,
            "border": null,
            "align_items": null,
            "bottom": null,
            "_model_module": "@jupyter-widgets/base",
            "top": null,
            "grid_column": null,
            "overflow_y": null,
            "overflow_x": null,
            "grid_auto_flow": null,
            "grid_area": null,
            "grid_template_columns": null,
            "flex": null,
            "_model_name": "LayoutModel",
            "justify_items": null,
            "grid_row": null,
            "max_height": null,
            "align_content": null,
            "visibility": null,
            "align_self": null,
            "height": null,
            "min_height": null,
            "padding": null,
            "grid_auto_rows": null,
            "grid_gap": null,
            "max_width": null,
            "order": null,
            "_view_module_version": "1.2.0",
            "grid_template_areas": null,
            "object_position": null,
            "object_fit": null,
            "grid_auto_columns": null,
            "margin": null,
            "display": null,
            "left": null
          }
        },
        "9f61407f291d4d97989146b0e7245b11": {
          "model_module": "@jupyter-widgets/controls",
          "model_name": "FloatProgressModel",
          "state": {
            "_view_name": "ProgressView",
            "style": "IPY_MODEL_0cc6eef3ed014500ba652aea3c42bf51",
            "_dom_classes": [],
            "description": "Downloading: 100%",
            "_model_name": "FloatProgressModel",
            "bar_style": "success",
            "max": 213450,
            "_view_module": "@jupyter-widgets/controls",
            "_model_module_version": "1.5.0",
            "value": 213450,
            "_view_count": null,
            "_view_module_version": "1.5.0",
            "orientation": "horizontal",
            "min": 0,
            "description_tooltip": null,
            "_model_module": "@jupyter-widgets/controls",
            "layout": "IPY_MODEL_db2666e5c2b14693a2dd281abdc46856"
          }
        },
        "b739b2e16a51414e85382532ca5c45d4": {
          "model_module": "@jupyter-widgets/controls",
          "model_name": "HTMLModel",
          "state": {
            "_view_name": "HTMLView",
            "style": "IPY_MODEL_3097a603001346c39629be62d4cab8cf",
            "_dom_classes": [],
            "description": "",
            "_model_name": "HTMLModel",
            "placeholder": "​",
            "_view_module": "@jupyter-widgets/controls",
            "_model_module_version": "1.5.0",
            "value": " 213k/213k [00:01&lt;00:00, 166kB/s]",
            "_view_count": null,
            "_view_module_version": "1.5.0",
            "description_tooltip": null,
            "_model_module": "@jupyter-widgets/controls",
            "layout": "IPY_MODEL_e76b3f6c4297454d90caad268488fcbd"
          }
        },
        "0cc6eef3ed014500ba652aea3c42bf51": {
          "model_module": "@jupyter-widgets/controls",
          "model_name": "ProgressStyleModel",
          "state": {
            "_view_name": "StyleView",
            "_model_name": "ProgressStyleModel",
            "description_width": "initial",
            "_view_module": "@jupyter-widgets/base",
            "_model_module_version": "1.5.0",
            "_view_count": null,
            "_view_module_version": "1.2.0",
            "bar_color": null,
            "_model_module": "@jupyter-widgets/controls"
          }
        },
        "db2666e5c2b14693a2dd281abdc46856": {
          "model_module": "@jupyter-widgets/base",
          "model_name": "LayoutModel",
          "state": {
            "_view_name": "LayoutView",
            "grid_template_rows": null,
            "right": null,
            "justify_content": null,
            "_view_module": "@jupyter-widgets/base",
            "overflow": null,
            "_model_module_version": "1.2.0",
            "_view_count": null,
            "flex_flow": null,
            "width": null,
            "min_width": null,
            "border": null,
            "align_items": null,
            "bottom": null,
            "_model_module": "@jupyter-widgets/base",
            "top": null,
            "grid_column": null,
            "overflow_y": null,
            "overflow_x": null,
            "grid_auto_flow": null,
            "grid_area": null,
            "grid_template_columns": null,
            "flex": null,
            "_model_name": "LayoutModel",
            "justify_items": null,
            "grid_row": null,
            "max_height": null,
            "align_content": null,
            "visibility": null,
            "align_self": null,
            "height": null,
            "min_height": null,
            "padding": null,
            "grid_auto_rows": null,
            "grid_gap": null,
            "max_width": null,
            "order": null,
            "_view_module_version": "1.2.0",
            "grid_template_areas": null,
            "object_position": null,
            "object_fit": null,
            "grid_auto_columns": null,
            "margin": null,
            "display": null,
            "left": null
          }
        },
        "3097a603001346c39629be62d4cab8cf": {
          "model_module": "@jupyter-widgets/controls",
          "model_name": "DescriptionStyleModel",
          "state": {
            "_view_name": "StyleView",
            "_model_name": "DescriptionStyleModel",
            "description_width": "",
            "_view_module": "@jupyter-widgets/base",
            "_model_module_version": "1.5.0",
            "_view_count": null,
            "_view_module_version": "1.2.0",
            "_model_module": "@jupyter-widgets/controls"
          }
        },
        "e76b3f6c4297454d90caad268488fcbd": {
          "model_module": "@jupyter-widgets/base",
          "model_name": "LayoutModel",
          "state": {
            "_view_name": "LayoutView",
            "grid_template_rows": null,
            "right": null,
            "justify_content": null,
            "_view_module": "@jupyter-widgets/base",
            "overflow": null,
            "_model_module_version": "1.2.0",
            "_view_count": null,
            "flex_flow": null,
            "width": null,
            "min_width": null,
            "border": null,
            "align_items": null,
            "bottom": null,
            "_model_module": "@jupyter-widgets/base",
            "top": null,
            "grid_column": null,
            "overflow_y": null,
            "overflow_x": null,
            "grid_auto_flow": null,
            "grid_area": null,
            "grid_template_columns": null,
            "flex": null,
            "_model_name": "LayoutModel",
            "justify_items": null,
            "grid_row": null,
            "max_height": null,
            "align_content": null,
            "visibility": null,
            "align_self": null,
            "height": null,
            "min_height": null,
            "padding": null,
            "grid_auto_rows": null,
            "grid_gap": null,
            "max_width": null,
            "order": null,
            "_view_module_version": "1.2.0",
            "grid_template_areas": null,
            "object_position": null,
            "object_fit": null,
            "grid_auto_columns": null,
            "margin": null,
            "display": null,
            "left": null
          }
        },
        "05537f3024a648b39518bae497433d16": {
          "model_module": "@jupyter-widgets/controls",
          "model_name": "HBoxModel",
          "state": {
            "_view_name": "HBoxView",
            "_dom_classes": [],
            "_model_name": "HBoxModel",
            "_view_module": "@jupyter-widgets/controls",
            "_model_module_version": "1.5.0",
            "_view_count": null,
            "_view_module_version": "1.5.0",
            "box_style": "",
            "layout": "IPY_MODEL_194e193828f2464f920996cb3a9e7519",
            "_model_module": "@jupyter-widgets/controls",
            "children": [
              "IPY_MODEL_b57786f1154b4a6685602a50934522c4",
              "IPY_MODEL_b4f302c6d7e14cb49033b19f0e7e68dc"
            ]
          }
        },
        "194e193828f2464f920996cb3a9e7519": {
          "model_module": "@jupyter-widgets/base",
          "model_name": "LayoutModel",
          "state": {
            "_view_name": "LayoutView",
            "grid_template_rows": null,
            "right": null,
            "justify_content": null,
            "_view_module": "@jupyter-widgets/base",
            "overflow": null,
            "_model_module_version": "1.2.0",
            "_view_count": null,
            "flex_flow": null,
            "width": null,
            "min_width": null,
            "border": null,
            "align_items": null,
            "bottom": null,
            "_model_module": "@jupyter-widgets/base",
            "top": null,
            "grid_column": null,
            "overflow_y": null,
            "overflow_x": null,
            "grid_auto_flow": null,
            "grid_area": null,
            "grid_template_columns": null,
            "flex": null,
            "_model_name": "LayoutModel",
            "justify_items": null,
            "grid_row": null,
            "max_height": null,
            "align_content": null,
            "visibility": null,
            "align_self": null,
            "height": null,
            "min_height": null,
            "padding": null,
            "grid_auto_rows": null,
            "grid_gap": null,
            "max_width": null,
            "order": null,
            "_view_module_version": "1.2.0",
            "grid_template_areas": null,
            "object_position": null,
            "object_fit": null,
            "grid_auto_columns": null,
            "margin": null,
            "display": null,
            "left": null
          }
        },
        "b57786f1154b4a6685602a50934522c4": {
          "model_module": "@jupyter-widgets/controls",
          "model_name": "FloatProgressModel",
          "state": {
            "_view_name": "ProgressView",
            "style": "IPY_MODEL_439548d578d14e68942258a1de7e119f",
            "_dom_classes": [],
            "description": "Downloading: 100%",
            "_model_name": "FloatProgressModel",
            "bar_style": "success",
            "max": 29,
            "_view_module": "@jupyter-widgets/controls",
            "_model_module_version": "1.5.0",
            "value": 29,
            "_view_count": null,
            "_view_module_version": "1.5.0",
            "orientation": "horizontal",
            "min": 0,
            "description_tooltip": null,
            "_model_module": "@jupyter-widgets/controls",
            "layout": "IPY_MODEL_b517eb61917940fea0c4e685d28dcbba"
          }
        },
        "b4f302c6d7e14cb49033b19f0e7e68dc": {
          "model_module": "@jupyter-widgets/controls",
          "model_name": "HTMLModel",
          "state": {
            "_view_name": "HTMLView",
            "style": "IPY_MODEL_142223ecd7b44c46b9ea06101c64391c",
            "_dom_classes": [],
            "description": "",
            "_model_name": "HTMLModel",
            "placeholder": "​",
            "_view_module": "@jupyter-widgets/controls",
            "_model_module_version": "1.5.0",
            "value": " 29.0/29.0 [00:00&lt;00:00, 29.3B/s]",
            "_view_count": null,
            "_view_module_version": "1.5.0",
            "description_tooltip": null,
            "_model_module": "@jupyter-widgets/controls",
            "layout": "IPY_MODEL_6dad826149b04753ab74f08cc36c1a96"
          }
        },
        "439548d578d14e68942258a1de7e119f": {
          "model_module": "@jupyter-widgets/controls",
          "model_name": "ProgressStyleModel",
          "state": {
            "_view_name": "StyleView",
            "_model_name": "ProgressStyleModel",
            "description_width": "initial",
            "_view_module": "@jupyter-widgets/base",
            "_model_module_version": "1.5.0",
            "_view_count": null,
            "_view_module_version": "1.2.0",
            "bar_color": null,
            "_model_module": "@jupyter-widgets/controls"
          }
        },
        "b517eb61917940fea0c4e685d28dcbba": {
          "model_module": "@jupyter-widgets/base",
          "model_name": "LayoutModel",
          "state": {
            "_view_name": "LayoutView",
            "grid_template_rows": null,
            "right": null,
            "justify_content": null,
            "_view_module": "@jupyter-widgets/base",
            "overflow": null,
            "_model_module_version": "1.2.0",
            "_view_count": null,
            "flex_flow": null,
            "width": null,
            "min_width": null,
            "border": null,
            "align_items": null,
            "bottom": null,
            "_model_module": "@jupyter-widgets/base",
            "top": null,
            "grid_column": null,
            "overflow_y": null,
            "overflow_x": null,
            "grid_auto_flow": null,
            "grid_area": null,
            "grid_template_columns": null,
            "flex": null,
            "_model_name": "LayoutModel",
            "justify_items": null,
            "grid_row": null,
            "max_height": null,
            "align_content": null,
            "visibility": null,
            "align_self": null,
            "height": null,
            "min_height": null,
            "padding": null,
            "grid_auto_rows": null,
            "grid_gap": null,
            "max_width": null,
            "order": null,
            "_view_module_version": "1.2.0",
            "grid_template_areas": null,
            "object_position": null,
            "object_fit": null,
            "grid_auto_columns": null,
            "margin": null,
            "display": null,
            "left": null
          }
        },
        "142223ecd7b44c46b9ea06101c64391c": {
          "model_module": "@jupyter-widgets/controls",
          "model_name": "DescriptionStyleModel",
          "state": {
            "_view_name": "StyleView",
            "_model_name": "DescriptionStyleModel",
            "description_width": "",
            "_view_module": "@jupyter-widgets/base",
            "_model_module_version": "1.5.0",
            "_view_count": null,
            "_view_module_version": "1.2.0",
            "_model_module": "@jupyter-widgets/controls"
          }
        },
        "6dad826149b04753ab74f08cc36c1a96": {
          "model_module": "@jupyter-widgets/base",
          "model_name": "LayoutModel",
          "state": {
            "_view_name": "LayoutView",
            "grid_template_rows": null,
            "right": null,
            "justify_content": null,
            "_view_module": "@jupyter-widgets/base",
            "overflow": null,
            "_model_module_version": "1.2.0",
            "_view_count": null,
            "flex_flow": null,
            "width": null,
            "min_width": null,
            "border": null,
            "align_items": null,
            "bottom": null,
            "_model_module": "@jupyter-widgets/base",
            "top": null,
            "grid_column": null,
            "overflow_y": null,
            "overflow_x": null,
            "grid_auto_flow": null,
            "grid_area": null,
            "grid_template_columns": null,
            "flex": null,
            "_model_name": "LayoutModel",
            "justify_items": null,
            "grid_row": null,
            "max_height": null,
            "align_content": null,
            "visibility": null,
            "align_self": null,
            "height": null,
            "min_height": null,
            "padding": null,
            "grid_auto_rows": null,
            "grid_gap": null,
            "max_width": null,
            "order": null,
            "_view_module_version": "1.2.0",
            "grid_template_areas": null,
            "object_position": null,
            "object_fit": null,
            "grid_auto_columns": null,
            "margin": null,
            "display": null,
            "left": null
          }
        },
        "e8c6d2cbc4984812bd60498cd59c3b20": {
          "model_module": "@jupyter-widgets/controls",
          "model_name": "HBoxModel",
          "state": {
            "_view_name": "HBoxView",
            "_dom_classes": [],
            "_model_name": "HBoxModel",
            "_view_module": "@jupyter-widgets/controls",
            "_model_module_version": "1.5.0",
            "_view_count": null,
            "_view_module_version": "1.5.0",
            "box_style": "",
            "layout": "IPY_MODEL_9ea37fbfa4a14b1fb0e49865ce1d91bd",
            "_model_module": "@jupyter-widgets/controls",
            "children": [
              "IPY_MODEL_9db352ea626b458994ed920928cfe2bc",
              "IPY_MODEL_ec7b33cb8e4c4af99db94c5ac3c467be"
            ]
          }
        },
        "9ea37fbfa4a14b1fb0e49865ce1d91bd": {
          "model_module": "@jupyter-widgets/base",
          "model_name": "LayoutModel",
          "state": {
            "_view_name": "LayoutView",
            "grid_template_rows": null,
            "right": null,
            "justify_content": null,
            "_view_module": "@jupyter-widgets/base",
            "overflow": null,
            "_model_module_version": "1.2.0",
            "_view_count": null,
            "flex_flow": null,
            "width": null,
            "min_width": null,
            "border": null,
            "align_items": null,
            "bottom": null,
            "_model_module": "@jupyter-widgets/base",
            "top": null,
            "grid_column": null,
            "overflow_y": null,
            "overflow_x": null,
            "grid_auto_flow": null,
            "grid_area": null,
            "grid_template_columns": null,
            "flex": null,
            "_model_name": "LayoutModel",
            "justify_items": null,
            "grid_row": null,
            "max_height": null,
            "align_content": null,
            "visibility": null,
            "align_self": null,
            "height": null,
            "min_height": null,
            "padding": null,
            "grid_auto_rows": null,
            "grid_gap": null,
            "max_width": null,
            "order": null,
            "_view_module_version": "1.2.0",
            "grid_template_areas": null,
            "object_position": null,
            "object_fit": null,
            "grid_auto_columns": null,
            "margin": null,
            "display": null,
            "left": null
          }
        },
        "9db352ea626b458994ed920928cfe2bc": {
          "model_module": "@jupyter-widgets/controls",
          "model_name": "FloatProgressModel",
          "state": {
            "_view_name": "ProgressView",
            "style": "IPY_MODEL_fd84f60ddcd94c00b8e37560418d0fda",
            "_dom_classes": [],
            "description": "Downloading: 100%",
            "_model_name": "FloatProgressModel",
            "bar_style": "success",
            "max": 435797,
            "_view_module": "@jupyter-widgets/controls",
            "_model_module_version": "1.5.0",
            "value": 435797,
            "_view_count": null,
            "_view_module_version": "1.5.0",
            "orientation": "horizontal",
            "min": 0,
            "description_tooltip": null,
            "_model_module": "@jupyter-widgets/controls",
            "layout": "IPY_MODEL_6931dce420b740338384ff61ed492767"
          }
        },
        "ec7b33cb8e4c4af99db94c5ac3c467be": {
          "model_module": "@jupyter-widgets/controls",
          "model_name": "HTMLModel",
          "state": {
            "_view_name": "HTMLView",
            "style": "IPY_MODEL_e148c18230b349c99e4e58326b4c1166",
            "_dom_classes": [],
            "description": "",
            "_model_name": "HTMLModel",
            "placeholder": "​",
            "_view_module": "@jupyter-widgets/controls",
            "_model_module_version": "1.5.0",
            "value": " 436k/436k [00:00&lt;00:00, 2.28MB/s]",
            "_view_count": null,
            "_view_module_version": "1.5.0",
            "description_tooltip": null,
            "_model_module": "@jupyter-widgets/controls",
            "layout": "IPY_MODEL_4c530fc134fc4d0186706ed242dd45cc"
          }
        },
        "fd84f60ddcd94c00b8e37560418d0fda": {
          "model_module": "@jupyter-widgets/controls",
          "model_name": "ProgressStyleModel",
          "state": {
            "_view_name": "StyleView",
            "_model_name": "ProgressStyleModel",
            "description_width": "initial",
            "_view_module": "@jupyter-widgets/base",
            "_model_module_version": "1.5.0",
            "_view_count": null,
            "_view_module_version": "1.2.0",
            "bar_color": null,
            "_model_module": "@jupyter-widgets/controls"
          }
        },
        "6931dce420b740338384ff61ed492767": {
          "model_module": "@jupyter-widgets/base",
          "model_name": "LayoutModel",
          "state": {
            "_view_name": "LayoutView",
            "grid_template_rows": null,
            "right": null,
            "justify_content": null,
            "_view_module": "@jupyter-widgets/base",
            "overflow": null,
            "_model_module_version": "1.2.0",
            "_view_count": null,
            "flex_flow": null,
            "width": null,
            "min_width": null,
            "border": null,
            "align_items": null,
            "bottom": null,
            "_model_module": "@jupyter-widgets/base",
            "top": null,
            "grid_column": null,
            "overflow_y": null,
            "overflow_x": null,
            "grid_auto_flow": null,
            "grid_area": null,
            "grid_template_columns": null,
            "flex": null,
            "_model_name": "LayoutModel",
            "justify_items": null,
            "grid_row": null,
            "max_height": null,
            "align_content": null,
            "visibility": null,
            "align_self": null,
            "height": null,
            "min_height": null,
            "padding": null,
            "grid_auto_rows": null,
            "grid_gap": null,
            "max_width": null,
            "order": null,
            "_view_module_version": "1.2.0",
            "grid_template_areas": null,
            "object_position": null,
            "object_fit": null,
            "grid_auto_columns": null,
            "margin": null,
            "display": null,
            "left": null
          }
        },
        "e148c18230b349c99e4e58326b4c1166": {
          "model_module": "@jupyter-widgets/controls",
          "model_name": "DescriptionStyleModel",
          "state": {
            "_view_name": "StyleView",
            "_model_name": "DescriptionStyleModel",
            "description_width": "",
            "_view_module": "@jupyter-widgets/base",
            "_model_module_version": "1.5.0",
            "_view_count": null,
            "_view_module_version": "1.2.0",
            "_model_module": "@jupyter-widgets/controls"
          }
        },
        "4c530fc134fc4d0186706ed242dd45cc": {
          "model_module": "@jupyter-widgets/base",
          "model_name": "LayoutModel",
          "state": {
            "_view_name": "LayoutView",
            "grid_template_rows": null,
            "right": null,
            "justify_content": null,
            "_view_module": "@jupyter-widgets/base",
            "overflow": null,
            "_model_module_version": "1.2.0",
            "_view_count": null,
            "flex_flow": null,
            "width": null,
            "min_width": null,
            "border": null,
            "align_items": null,
            "bottom": null,
            "_model_module": "@jupyter-widgets/base",
            "top": null,
            "grid_column": null,
            "overflow_y": null,
            "overflow_x": null,
            "grid_auto_flow": null,
            "grid_area": null,
            "grid_template_columns": null,
            "flex": null,
            "_model_name": "LayoutModel",
            "justify_items": null,
            "grid_row": null,
            "max_height": null,
            "align_content": null,
            "visibility": null,
            "align_self": null,
            "height": null,
            "min_height": null,
            "padding": null,
            "grid_auto_rows": null,
            "grid_gap": null,
            "max_width": null,
            "order": null,
            "_view_module_version": "1.2.0",
            "grid_template_areas": null,
            "object_position": null,
            "object_fit": null,
            "grid_auto_columns": null,
            "margin": null,
            "display": null,
            "left": null
          }
        },
        "b509e1cd096f4aaaaa8250e47f33bec1": {
          "model_module": "@jupyter-widgets/controls",
          "model_name": "HBoxModel",
          "state": {
            "_view_name": "HBoxView",
            "_dom_classes": [],
            "_model_name": "HBoxModel",
            "_view_module": "@jupyter-widgets/controls",
            "_model_module_version": "1.5.0",
            "_view_count": null,
            "_view_module_version": "1.5.0",
            "box_style": "",
            "layout": "IPY_MODEL_8c2f73fb61fa421aa78f5ce604a0c644",
            "_model_module": "@jupyter-widgets/controls",
            "children": [
              "IPY_MODEL_a8aa56057493484c934a60af939218f3",
              "IPY_MODEL_60c65e8f9bcd4353ad77feeaf12aec99"
            ]
          }
        },
        "8c2f73fb61fa421aa78f5ce604a0c644": {
          "model_module": "@jupyter-widgets/base",
          "model_name": "LayoutModel",
          "state": {
            "_view_name": "LayoutView",
            "grid_template_rows": null,
            "right": null,
            "justify_content": null,
            "_view_module": "@jupyter-widgets/base",
            "overflow": null,
            "_model_module_version": "1.2.0",
            "_view_count": null,
            "flex_flow": null,
            "width": null,
            "min_width": null,
            "border": null,
            "align_items": null,
            "bottom": null,
            "_model_module": "@jupyter-widgets/base",
            "top": null,
            "grid_column": null,
            "overflow_y": null,
            "overflow_x": null,
            "grid_auto_flow": null,
            "grid_area": null,
            "grid_template_columns": null,
            "flex": null,
            "_model_name": "LayoutModel",
            "justify_items": null,
            "grid_row": null,
            "max_height": null,
            "align_content": null,
            "visibility": null,
            "align_self": null,
            "height": null,
            "min_height": null,
            "padding": null,
            "grid_auto_rows": null,
            "grid_gap": null,
            "max_width": null,
            "order": null,
            "_view_module_version": "1.2.0",
            "grid_template_areas": null,
            "object_position": null,
            "object_fit": null,
            "grid_auto_columns": null,
            "margin": null,
            "display": null,
            "left": null
          }
        },
        "a8aa56057493484c934a60af939218f3": {
          "model_module": "@jupyter-widgets/controls",
          "model_name": "FloatProgressModel",
          "state": {
            "_view_name": "ProgressView",
            "style": "IPY_MODEL_90dc2646cf4f4ab5b13114f288267ab1",
            "_dom_classes": [],
            "description": "Downloading: ",
            "_model_name": "FloatProgressModel",
            "bar_style": "success",
            "max": 1362,
            "_view_module": "@jupyter-widgets/controls",
            "_model_module_version": "1.5.0",
            "value": 1362,
            "_view_count": null,
            "_view_module_version": "1.5.0",
            "orientation": "horizontal",
            "min": 0,
            "description_tooltip": null,
            "_model_module": "@jupyter-widgets/controls",
            "layout": "IPY_MODEL_eda8ba5ca34e4a1c8d880467714dc2fb"
          }
        },
        "60c65e8f9bcd4353ad77feeaf12aec99": {
          "model_module": "@jupyter-widgets/controls",
          "model_name": "HTMLModel",
          "state": {
            "_view_name": "HTMLView",
            "style": "IPY_MODEL_3c314077433e45fa8841b071bdf985ea",
            "_dom_classes": [],
            "description": "",
            "_model_name": "HTMLModel",
            "placeholder": "​",
            "_view_module": "@jupyter-widgets/controls",
            "_model_module_version": "1.5.0",
            "value": " 2.92k/? [00:00&lt;00:00, 10.8kB/s]",
            "_view_count": null,
            "_view_module_version": "1.5.0",
            "description_tooltip": null,
            "_model_module": "@jupyter-widgets/controls",
            "layout": "IPY_MODEL_5a9fcf30378e4046b20cdfdaf1b97958"
          }
        },
        "90dc2646cf4f4ab5b13114f288267ab1": {
          "model_module": "@jupyter-widgets/controls",
          "model_name": "ProgressStyleModel",
          "state": {
            "_view_name": "StyleView",
            "_model_name": "ProgressStyleModel",
            "description_width": "initial",
            "_view_module": "@jupyter-widgets/base",
            "_model_module_version": "1.5.0",
            "_view_count": null,
            "_view_module_version": "1.2.0",
            "bar_color": null,
            "_model_module": "@jupyter-widgets/controls"
          }
        },
        "eda8ba5ca34e4a1c8d880467714dc2fb": {
          "model_module": "@jupyter-widgets/base",
          "model_name": "LayoutModel",
          "state": {
            "_view_name": "LayoutView",
            "grid_template_rows": null,
            "right": null,
            "justify_content": null,
            "_view_module": "@jupyter-widgets/base",
            "overflow": null,
            "_model_module_version": "1.2.0",
            "_view_count": null,
            "flex_flow": null,
            "width": null,
            "min_width": null,
            "border": null,
            "align_items": null,
            "bottom": null,
            "_model_module": "@jupyter-widgets/base",
            "top": null,
            "grid_column": null,
            "overflow_y": null,
            "overflow_x": null,
            "grid_auto_flow": null,
            "grid_area": null,
            "grid_template_columns": null,
            "flex": null,
            "_model_name": "LayoutModel",
            "justify_items": null,
            "grid_row": null,
            "max_height": null,
            "align_content": null,
            "visibility": null,
            "align_self": null,
            "height": null,
            "min_height": null,
            "padding": null,
            "grid_auto_rows": null,
            "grid_gap": null,
            "max_width": null,
            "order": null,
            "_view_module_version": "1.2.0",
            "grid_template_areas": null,
            "object_position": null,
            "object_fit": null,
            "grid_auto_columns": null,
            "margin": null,
            "display": null,
            "left": null
          }
        },
        "3c314077433e45fa8841b071bdf985ea": {
          "model_module": "@jupyter-widgets/controls",
          "model_name": "DescriptionStyleModel",
          "state": {
            "_view_name": "StyleView",
            "_model_name": "DescriptionStyleModel",
            "description_width": "",
            "_view_module": "@jupyter-widgets/base",
            "_model_module_version": "1.5.0",
            "_view_count": null,
            "_view_module_version": "1.2.0",
            "_model_module": "@jupyter-widgets/controls"
          }
        },
        "5a9fcf30378e4046b20cdfdaf1b97958": {
          "model_module": "@jupyter-widgets/base",
          "model_name": "LayoutModel",
          "state": {
            "_view_name": "LayoutView",
            "grid_template_rows": null,
            "right": null,
            "justify_content": null,
            "_view_module": "@jupyter-widgets/base",
            "overflow": null,
            "_model_module_version": "1.2.0",
            "_view_count": null,
            "flex_flow": null,
            "width": null,
            "min_width": null,
            "border": null,
            "align_items": null,
            "bottom": null,
            "_model_module": "@jupyter-widgets/base",
            "top": null,
            "grid_column": null,
            "overflow_y": null,
            "overflow_x": null,
            "grid_auto_flow": null,
            "grid_area": null,
            "grid_template_columns": null,
            "flex": null,
            "_model_name": "LayoutModel",
            "justify_items": null,
            "grid_row": null,
            "max_height": null,
            "align_content": null,
            "visibility": null,
            "align_self": null,
            "height": null,
            "min_height": null,
            "padding": null,
            "grid_auto_rows": null,
            "grid_gap": null,
            "max_width": null,
            "order": null,
            "_view_module_version": "1.2.0",
            "grid_template_areas": null,
            "object_position": null,
            "object_fit": null,
            "grid_auto_columns": null,
            "margin": null,
            "display": null,
            "left": null
          }
        },
        "6627e8abe4fb4a8391b2086dc0704b37": {
          "model_module": "@jupyter-widgets/controls",
          "model_name": "HBoxModel",
          "state": {
            "_view_name": "HBoxView",
            "_dom_classes": [],
            "_model_name": "HBoxModel",
            "_view_module": "@jupyter-widgets/controls",
            "_model_module_version": "1.5.0",
            "_view_count": null,
            "_view_module_version": "1.5.0",
            "box_style": "",
            "layout": "IPY_MODEL_e88588c4671b434b8a97a9b924dbad95",
            "_model_module": "@jupyter-widgets/controls",
            "children": [
              "IPY_MODEL_1deb42ba0c7047ff90f9907798cd2c74",
              "IPY_MODEL_9862382255bc49cfbdeff660f4fbe241"
            ]
          }
        },
        "e88588c4671b434b8a97a9b924dbad95": {
          "model_module": "@jupyter-widgets/base",
          "model_name": "LayoutModel",
          "state": {
            "_view_name": "LayoutView",
            "grid_template_rows": null,
            "right": null,
            "justify_content": null,
            "_view_module": "@jupyter-widgets/base",
            "overflow": null,
            "_model_module_version": "1.2.0",
            "_view_count": null,
            "flex_flow": null,
            "width": null,
            "min_width": null,
            "border": null,
            "align_items": null,
            "bottom": null,
            "_model_module": "@jupyter-widgets/base",
            "top": null,
            "grid_column": null,
            "overflow_y": null,
            "overflow_x": null,
            "grid_auto_flow": null,
            "grid_area": null,
            "grid_template_columns": null,
            "flex": null,
            "_model_name": "LayoutModel",
            "justify_items": null,
            "grid_row": null,
            "max_height": null,
            "align_content": null,
            "visibility": null,
            "align_self": null,
            "height": null,
            "min_height": null,
            "padding": null,
            "grid_auto_rows": null,
            "grid_gap": null,
            "max_width": null,
            "order": null,
            "_view_module_version": "1.2.0",
            "grid_template_areas": null,
            "object_position": null,
            "object_fit": null,
            "grid_auto_columns": null,
            "margin": null,
            "display": null,
            "left": null
          }
        },
        "1deb42ba0c7047ff90f9907798cd2c74": {
          "model_module": "@jupyter-widgets/controls",
          "model_name": "FloatProgressModel",
          "state": {
            "_view_name": "ProgressView",
            "style": "IPY_MODEL_b062a8166dfc417aaf514d032994fef8",
            "_dom_classes": [],
            "description": "Downloading: ",
            "_model_name": "FloatProgressModel",
            "bar_style": "success",
            "max": 7777,
            "_view_module": "@jupyter-widgets/controls",
            "_model_module_version": "1.5.0",
            "value": 7777,
            "_view_count": null,
            "_view_module_version": "1.5.0",
            "orientation": "horizontal",
            "min": 0,
            "description_tooltip": null,
            "_model_module": "@jupyter-widgets/controls",
            "layout": "IPY_MODEL_a546c5244384475897ed9217b3b8d40e"
          }
        },
        "9862382255bc49cfbdeff660f4fbe241": {
          "model_module": "@jupyter-widgets/controls",
          "model_name": "HTMLModel",
          "state": {
            "_view_name": "HTMLView",
            "style": "IPY_MODEL_e7485d1865514573b8395ff10df9f658",
            "_dom_classes": [],
            "description": "",
            "_model_name": "HTMLModel",
            "placeholder": "​",
            "_view_module": "@jupyter-widgets/controls",
            "_model_module_version": "1.5.0",
            "value": " 28.8k/? [00:00&lt;00:00, 150kB/s]",
            "_view_count": null,
            "_view_module_version": "1.5.0",
            "description_tooltip": null,
            "_model_module": "@jupyter-widgets/controls",
            "layout": "IPY_MODEL_006a3bf1a1bb49b78584a22c330c16b6"
          }
        },
        "b062a8166dfc417aaf514d032994fef8": {
          "model_module": "@jupyter-widgets/controls",
          "model_name": "ProgressStyleModel",
          "state": {
            "_view_name": "StyleView",
            "_model_name": "ProgressStyleModel",
            "description_width": "initial",
            "_view_module": "@jupyter-widgets/base",
            "_model_module_version": "1.5.0",
            "_view_count": null,
            "_view_module_version": "1.2.0",
            "bar_color": null,
            "_model_module": "@jupyter-widgets/controls"
          }
        },
        "a546c5244384475897ed9217b3b8d40e": {
          "model_module": "@jupyter-widgets/base",
          "model_name": "LayoutModel",
          "state": {
            "_view_name": "LayoutView",
            "grid_template_rows": null,
            "right": null,
            "justify_content": null,
            "_view_module": "@jupyter-widgets/base",
            "overflow": null,
            "_model_module_version": "1.2.0",
            "_view_count": null,
            "flex_flow": null,
            "width": null,
            "min_width": null,
            "border": null,
            "align_items": null,
            "bottom": null,
            "_model_module": "@jupyter-widgets/base",
            "top": null,
            "grid_column": null,
            "overflow_y": null,
            "overflow_x": null,
            "grid_auto_flow": null,
            "grid_area": null,
            "grid_template_columns": null,
            "flex": null,
            "_model_name": "LayoutModel",
            "justify_items": null,
            "grid_row": null,
            "max_height": null,
            "align_content": null,
            "visibility": null,
            "align_self": null,
            "height": null,
            "min_height": null,
            "padding": null,
            "grid_auto_rows": null,
            "grid_gap": null,
            "max_width": null,
            "order": null,
            "_view_module_version": "1.2.0",
            "grid_template_areas": null,
            "object_position": null,
            "object_fit": null,
            "grid_auto_columns": null,
            "margin": null,
            "display": null,
            "left": null
          }
        },
        "e7485d1865514573b8395ff10df9f658": {
          "model_module": "@jupyter-widgets/controls",
          "model_name": "DescriptionStyleModel",
          "state": {
            "_view_name": "StyleView",
            "_model_name": "DescriptionStyleModel",
            "description_width": "",
            "_view_module": "@jupyter-widgets/base",
            "_model_module_version": "1.5.0",
            "_view_count": null,
            "_view_module_version": "1.2.0",
            "_model_module": "@jupyter-widgets/controls"
          }
        },
        "006a3bf1a1bb49b78584a22c330c16b6": {
          "model_module": "@jupyter-widgets/base",
          "model_name": "LayoutModel",
          "state": {
            "_view_name": "LayoutView",
            "grid_template_rows": null,
            "right": null,
            "justify_content": null,
            "_view_module": "@jupyter-widgets/base",
            "overflow": null,
            "_model_module_version": "1.2.0",
            "_view_count": null,
            "flex_flow": null,
            "width": null,
            "min_width": null,
            "border": null,
            "align_items": null,
            "bottom": null,
            "_model_module": "@jupyter-widgets/base",
            "top": null,
            "grid_column": null,
            "overflow_y": null,
            "overflow_x": null,
            "grid_auto_flow": null,
            "grid_area": null,
            "grid_template_columns": null,
            "flex": null,
            "_model_name": "LayoutModel",
            "justify_items": null,
            "grid_row": null,
            "max_height": null,
            "align_content": null,
            "visibility": null,
            "align_self": null,
            "height": null,
            "min_height": null,
            "padding": null,
            "grid_auto_rows": null,
            "grid_gap": null,
            "max_width": null,
            "order": null,
            "_view_module_version": "1.2.0",
            "grid_template_areas": null,
            "object_position": null,
            "object_fit": null,
            "grid_auto_columns": null,
            "margin": null,
            "display": null,
            "left": null
          }
        },
        "f4744674ffea4109862b5897a94ce496": {
          "model_module": "@jupyter-widgets/controls",
          "model_name": "HBoxModel",
          "state": {
            "_view_name": "HBoxView",
            "_dom_classes": [],
            "_model_name": "HBoxModel",
            "_view_module": "@jupyter-widgets/controls",
            "_model_module_version": "1.5.0",
            "_view_count": null,
            "_view_module_version": "1.5.0",
            "box_style": "",
            "layout": "IPY_MODEL_91829b58426d43e8bc745bb6a24f4759",
            "_model_module": "@jupyter-widgets/controls",
            "children": [
              "IPY_MODEL_7f580609fbb547b5b31377a93b31408b",
              "IPY_MODEL_56630bdb06c84f76b99613a56cfcc684"
            ]
          }
        },
        "91829b58426d43e8bc745bb6a24f4759": {
          "model_module": "@jupyter-widgets/base",
          "model_name": "LayoutModel",
          "state": {
            "_view_name": "LayoutView",
            "grid_template_rows": null,
            "right": null,
            "justify_content": null,
            "_view_module": "@jupyter-widgets/base",
            "overflow": null,
            "_model_module_version": "1.2.0",
            "_view_count": null,
            "flex_flow": null,
            "width": null,
            "min_width": null,
            "border": null,
            "align_items": null,
            "bottom": null,
            "_model_module": "@jupyter-widgets/base",
            "top": null,
            "grid_column": null,
            "overflow_y": null,
            "overflow_x": null,
            "grid_auto_flow": null,
            "grid_area": null,
            "grid_template_columns": null,
            "flex": null,
            "_model_name": "LayoutModel",
            "justify_items": null,
            "grid_row": null,
            "max_height": null,
            "align_content": null,
            "visibility": null,
            "align_self": null,
            "height": null,
            "min_height": null,
            "padding": null,
            "grid_auto_rows": null,
            "grid_gap": null,
            "max_width": null,
            "order": null,
            "_view_module_version": "1.2.0",
            "grid_template_areas": null,
            "object_position": null,
            "object_fit": null,
            "grid_auto_columns": null,
            "margin": null,
            "display": null,
            "left": null
          }
        },
        "7f580609fbb547b5b31377a93b31408b": {
          "model_module": "@jupyter-widgets/controls",
          "model_name": "FloatProgressModel",
          "state": {
            "_view_name": "ProgressView",
            "style": "IPY_MODEL_37c62755b1664ed18905823f08e4bb40",
            "_dom_classes": [],
            "description": "Downloading: ",
            "_model_name": "FloatProgressModel",
            "bar_style": "success",
            "max": 4473,
            "_view_module": "@jupyter-widgets/controls",
            "_model_module_version": "1.5.0",
            "value": 4473,
            "_view_count": null,
            "_view_module_version": "1.5.0",
            "orientation": "horizontal",
            "min": 0,
            "description_tooltip": null,
            "_model_module": "@jupyter-widgets/controls",
            "layout": "IPY_MODEL_75b51440d6f544ff87e438569f393dee"
          }
        },
        "56630bdb06c84f76b99613a56cfcc684": {
          "model_module": "@jupyter-widgets/controls",
          "model_name": "HTMLModel",
          "state": {
            "_view_name": "HTMLView",
            "style": "IPY_MODEL_25415cc58a5a475f89fdeda8698fe0e4",
            "_dom_classes": [],
            "description": "",
            "_model_name": "HTMLModel",
            "placeholder": "​",
            "_view_module": "@jupyter-widgets/controls",
            "_model_module_version": "1.5.0",
            "value": " 28.7k/? [00:03&lt;00:00, 8.50kB/s]",
            "_view_count": null,
            "_view_module_version": "1.5.0",
            "description_tooltip": null,
            "_model_module": "@jupyter-widgets/controls",
            "layout": "IPY_MODEL_06c8e38338dc48ecb57c340ffd5eceef"
          }
        },
        "37c62755b1664ed18905823f08e4bb40": {
          "model_module": "@jupyter-widgets/controls",
          "model_name": "ProgressStyleModel",
          "state": {
            "_view_name": "StyleView",
            "_model_name": "ProgressStyleModel",
            "description_width": "initial",
            "_view_module": "@jupyter-widgets/base",
            "_model_module_version": "1.5.0",
            "_view_count": null,
            "_view_module_version": "1.2.0",
            "bar_color": null,
            "_model_module": "@jupyter-widgets/controls"
          }
        },
        "75b51440d6f544ff87e438569f393dee": {
          "model_module": "@jupyter-widgets/base",
          "model_name": "LayoutModel",
          "state": {
            "_view_name": "LayoutView",
            "grid_template_rows": null,
            "right": null,
            "justify_content": null,
            "_view_module": "@jupyter-widgets/base",
            "overflow": null,
            "_model_module_version": "1.2.0",
            "_view_count": null,
            "flex_flow": null,
            "width": null,
            "min_width": null,
            "border": null,
            "align_items": null,
            "bottom": null,
            "_model_module": "@jupyter-widgets/base",
            "top": null,
            "grid_column": null,
            "overflow_y": null,
            "overflow_x": null,
            "grid_auto_flow": null,
            "grid_area": null,
            "grid_template_columns": null,
            "flex": null,
            "_model_name": "LayoutModel",
            "justify_items": null,
            "grid_row": null,
            "max_height": null,
            "align_content": null,
            "visibility": null,
            "align_self": null,
            "height": null,
            "min_height": null,
            "padding": null,
            "grid_auto_rows": null,
            "grid_gap": null,
            "max_width": null,
            "order": null,
            "_view_module_version": "1.2.0",
            "grid_template_areas": null,
            "object_position": null,
            "object_fit": null,
            "grid_auto_columns": null,
            "margin": null,
            "display": null,
            "left": null
          }
        },
        "25415cc58a5a475f89fdeda8698fe0e4": {
          "model_module": "@jupyter-widgets/controls",
          "model_name": "DescriptionStyleModel",
          "state": {
            "_view_name": "StyleView",
            "_model_name": "DescriptionStyleModel",
            "description_width": "",
            "_view_module": "@jupyter-widgets/base",
            "_model_module_version": "1.5.0",
            "_view_count": null,
            "_view_module_version": "1.2.0",
            "_model_module": "@jupyter-widgets/controls"
          }
        },
        "06c8e38338dc48ecb57c340ffd5eceef": {
          "model_module": "@jupyter-widgets/base",
          "model_name": "LayoutModel",
          "state": {
            "_view_name": "LayoutView",
            "grid_template_rows": null,
            "right": null,
            "justify_content": null,
            "_view_module": "@jupyter-widgets/base",
            "overflow": null,
            "_model_module_version": "1.2.0",
            "_view_count": null,
            "flex_flow": null,
            "width": null,
            "min_width": null,
            "border": null,
            "align_items": null,
            "bottom": null,
            "_model_module": "@jupyter-widgets/base",
            "top": null,
            "grid_column": null,
            "overflow_y": null,
            "overflow_x": null,
            "grid_auto_flow": null,
            "grid_area": null,
            "grid_template_columns": null,
            "flex": null,
            "_model_name": "LayoutModel",
            "justify_items": null,
            "grid_row": null,
            "max_height": null,
            "align_content": null,
            "visibility": null,
            "align_self": null,
            "height": null,
            "min_height": null,
            "padding": null,
            "grid_auto_rows": null,
            "grid_gap": null,
            "max_width": null,
            "order": null,
            "_view_module_version": "1.2.0",
            "grid_template_areas": null,
            "object_position": null,
            "object_fit": null,
            "grid_auto_columns": null,
            "margin": null,
            "display": null,
            "left": null
          }
        },
        "77833d39331241e9a536ebbbc03e059d": {
          "model_module": "@jupyter-widgets/controls",
          "model_name": "HBoxModel",
          "state": {
            "_view_name": "HBoxView",
            "_dom_classes": [],
            "_model_name": "HBoxModel",
            "_view_module": "@jupyter-widgets/controls",
            "_model_module_version": "1.5.0",
            "_view_count": null,
            "_view_module_version": "1.5.0",
            "box_style": "",
            "layout": "IPY_MODEL_e37c774e84794b44987f32381e218a8a",
            "_model_module": "@jupyter-widgets/controls",
            "children": [
              "IPY_MODEL_01ef1001e0544ab4b2ce6bd0c36ed1c7",
              "IPY_MODEL_75deb1b269e6469982e8822b8f183936"
            ]
          }
        },
        "e37c774e84794b44987f32381e218a8a": {
          "model_module": "@jupyter-widgets/base",
          "model_name": "LayoutModel",
          "state": {
            "_view_name": "LayoutView",
            "grid_template_rows": null,
            "right": null,
            "justify_content": null,
            "_view_module": "@jupyter-widgets/base",
            "overflow": null,
            "_model_module_version": "1.2.0",
            "_view_count": null,
            "flex_flow": null,
            "width": null,
            "min_width": null,
            "border": null,
            "align_items": null,
            "bottom": null,
            "_model_module": "@jupyter-widgets/base",
            "top": null,
            "grid_column": null,
            "overflow_y": null,
            "overflow_x": null,
            "grid_auto_flow": null,
            "grid_area": null,
            "grid_template_columns": null,
            "flex": null,
            "_model_name": "LayoutModel",
            "justify_items": null,
            "grid_row": null,
            "max_height": null,
            "align_content": null,
            "visibility": null,
            "align_self": null,
            "height": null,
            "min_height": null,
            "padding": null,
            "grid_auto_rows": null,
            "grid_gap": null,
            "max_width": null,
            "order": null,
            "_view_module_version": "1.2.0",
            "grid_template_areas": null,
            "object_position": null,
            "object_fit": null,
            "grid_auto_columns": null,
            "margin": null,
            "display": null,
            "left": null
          }
        },
        "01ef1001e0544ab4b2ce6bd0c36ed1c7": {
          "model_module": "@jupyter-widgets/controls",
          "model_name": "FloatProgressModel",
          "state": {
            "_view_name": "ProgressView",
            "style": "IPY_MODEL_54280e8a455d43f19f5eca531745a763",
            "_dom_classes": [],
            "description": "Downloading: 100%",
            "_model_name": "FloatProgressModel",
            "bar_style": "success",
            "max": 41696084,
            "_view_module": "@jupyter-widgets/controls",
            "_model_module_version": "1.5.0",
            "value": 41696084,
            "_view_count": null,
            "_view_module_version": "1.5.0",
            "orientation": "horizontal",
            "min": 0,
            "description_tooltip": null,
            "_model_module": "@jupyter-widgets/controls",
            "layout": "IPY_MODEL_973784a25aee4febafde1ecab24012f8"
          }
        },
        "75deb1b269e6469982e8822b8f183936": {
          "model_module": "@jupyter-widgets/controls",
          "model_name": "HTMLModel",
          "state": {
            "_view_name": "HTMLView",
            "style": "IPY_MODEL_1830f65179d641828a8a52c2367322ea",
            "_dom_classes": [],
            "description": "",
            "_model_name": "HTMLModel",
            "placeholder": "​",
            "_view_module": "@jupyter-widgets/controls",
            "_model_module_version": "1.5.0",
            "value": " 41.7M/41.7M [00:02&lt;00:00, 15.8MB/s]",
            "_view_count": null,
            "_view_module_version": "1.5.0",
            "description_tooltip": null,
            "_model_module": "@jupyter-widgets/controls",
            "layout": "IPY_MODEL_a53a9b4900a4410e90ca2da6bfde71a6"
          }
        },
        "54280e8a455d43f19f5eca531745a763": {
          "model_module": "@jupyter-widgets/controls",
          "model_name": "ProgressStyleModel",
          "state": {
            "_view_name": "StyleView",
            "_model_name": "ProgressStyleModel",
            "description_width": "initial",
            "_view_module": "@jupyter-widgets/base",
            "_model_module_version": "1.5.0",
            "_view_count": null,
            "_view_module_version": "1.2.0",
            "bar_color": null,
            "_model_module": "@jupyter-widgets/controls"
          }
        },
        "973784a25aee4febafde1ecab24012f8": {
          "model_module": "@jupyter-widgets/base",
          "model_name": "LayoutModel",
          "state": {
            "_view_name": "LayoutView",
            "grid_template_rows": null,
            "right": null,
            "justify_content": null,
            "_view_module": "@jupyter-widgets/base",
            "overflow": null,
            "_model_module_version": "1.2.0",
            "_view_count": null,
            "flex_flow": null,
            "width": null,
            "min_width": null,
            "border": null,
            "align_items": null,
            "bottom": null,
            "_model_module": "@jupyter-widgets/base",
            "top": null,
            "grid_column": null,
            "overflow_y": null,
            "overflow_x": null,
            "grid_auto_flow": null,
            "grid_area": null,
            "grid_template_columns": null,
            "flex": null,
            "_model_name": "LayoutModel",
            "justify_items": null,
            "grid_row": null,
            "max_height": null,
            "align_content": null,
            "visibility": null,
            "align_self": null,
            "height": null,
            "min_height": null,
            "padding": null,
            "grid_auto_rows": null,
            "grid_gap": null,
            "max_width": null,
            "order": null,
            "_view_module_version": "1.2.0",
            "grid_template_areas": null,
            "object_position": null,
            "object_fit": null,
            "grid_auto_columns": null,
            "margin": null,
            "display": null,
            "left": null
          }
        },
        "1830f65179d641828a8a52c2367322ea": {
          "model_module": "@jupyter-widgets/controls",
          "model_name": "DescriptionStyleModel",
          "state": {
            "_view_name": "StyleView",
            "_model_name": "DescriptionStyleModel",
            "description_width": "",
            "_view_module": "@jupyter-widgets/base",
            "_model_module_version": "1.5.0",
            "_view_count": null,
            "_view_module_version": "1.2.0",
            "_model_module": "@jupyter-widgets/controls"
          }
        },
        "a53a9b4900a4410e90ca2da6bfde71a6": {
          "model_module": "@jupyter-widgets/base",
          "model_name": "LayoutModel",
          "state": {
            "_view_name": "LayoutView",
            "grid_template_rows": null,
            "right": null,
            "justify_content": null,
            "_view_module": "@jupyter-widgets/base",
            "overflow": null,
            "_model_module_version": "1.2.0",
            "_view_count": null,
            "flex_flow": null,
            "width": null,
            "min_width": null,
            "border": null,
            "align_items": null,
            "bottom": null,
            "_model_module": "@jupyter-widgets/base",
            "top": null,
            "grid_column": null,
            "overflow_y": null,
            "overflow_x": null,
            "grid_auto_flow": null,
            "grid_area": null,
            "grid_template_columns": null,
            "flex": null,
            "_model_name": "LayoutModel",
            "justify_items": null,
            "grid_row": null,
            "max_height": null,
            "align_content": null,
            "visibility": null,
            "align_self": null,
            "height": null,
            "min_height": null,
            "padding": null,
            "grid_auto_rows": null,
            "grid_gap": null,
            "max_width": null,
            "order": null,
            "_view_module_version": "1.2.0",
            "grid_template_areas": null,
            "object_position": null,
            "object_fit": null,
            "grid_auto_columns": null,
            "margin": null,
            "display": null,
            "left": null
          }
        },
        "eb5fff711f0449f985e233e3ec841048": {
          "model_module": "@jupyter-widgets/controls",
          "model_name": "HBoxModel",
          "state": {
            "_view_name": "HBoxView",
            "_dom_classes": [],
            "_model_name": "HBoxModel",
            "_view_module": "@jupyter-widgets/controls",
            "_model_module_version": "1.5.0",
            "_view_count": null,
            "_view_module_version": "1.5.0",
            "box_style": "",
            "layout": "IPY_MODEL_78daef6bb45044e19ad09409c747dafa",
            "_model_module": "@jupyter-widgets/controls",
            "children": [
              "IPY_MODEL_be48ea8db0754a05aae912013469c0cf",
              "IPY_MODEL_ebf5c509427f4eac8c3ca14a94663e50"
            ]
          }
        },
        "78daef6bb45044e19ad09409c747dafa": {
          "model_module": "@jupyter-widgets/base",
          "model_name": "LayoutModel",
          "state": {
            "_view_name": "LayoutView",
            "grid_template_rows": null,
            "right": null,
            "justify_content": null,
            "_view_module": "@jupyter-widgets/base",
            "overflow": null,
            "_model_module_version": "1.2.0",
            "_view_count": null,
            "flex_flow": null,
            "width": null,
            "min_width": null,
            "border": null,
            "align_items": null,
            "bottom": null,
            "_model_module": "@jupyter-widgets/base",
            "top": null,
            "grid_column": null,
            "overflow_y": null,
            "overflow_x": null,
            "grid_auto_flow": null,
            "grid_area": null,
            "grid_template_columns": null,
            "flex": null,
            "_model_name": "LayoutModel",
            "justify_items": null,
            "grid_row": null,
            "max_height": null,
            "align_content": null,
            "visibility": null,
            "align_self": null,
            "height": null,
            "min_height": null,
            "padding": null,
            "grid_auto_rows": null,
            "grid_gap": null,
            "max_width": null,
            "order": null,
            "_view_module_version": "1.2.0",
            "grid_template_areas": null,
            "object_position": null,
            "object_fit": null,
            "grid_auto_columns": null,
            "margin": null,
            "display": null,
            "left": null
          }
        },
        "be48ea8db0754a05aae912013469c0cf": {
          "model_module": "@jupyter-widgets/controls",
          "model_name": "FloatProgressModel",
          "state": {
            "_view_name": "ProgressView",
            "style": "IPY_MODEL_1f0d94d533274a18907c5ca137626ad7",
            "_dom_classes": [],
            "description": "",
            "_model_name": "FloatProgressModel",
            "bar_style": "info",
            "max": 1,
            "_view_module": "@jupyter-widgets/controls",
            "_model_module_version": "1.5.0",
            "value": 1,
            "_view_count": null,
            "_view_module_version": "1.5.0",
            "orientation": "horizontal",
            "min": 0,
            "description_tooltip": null,
            "_model_module": "@jupyter-widgets/controls",
            "layout": "IPY_MODEL_b3296cc44b5f46afa83aac35b0489628"
          }
        },
        "ebf5c509427f4eac8c3ca14a94663e50": {
          "model_module": "@jupyter-widgets/controls",
          "model_name": "HTMLModel",
          "state": {
            "_view_name": "HTMLView",
            "style": "IPY_MODEL_5901e655836e4d10aa8a67b7924198c1",
            "_dom_classes": [],
            "description": "",
            "_model_name": "HTMLModel",
            "placeholder": "​",
            "_view_module": "@jupyter-widgets/controls",
            "_model_module_version": "1.5.0",
            "value": " 363846/0 [00:16&lt;00:00, 21050.32 examples/s]",
            "_view_count": null,
            "_view_module_version": "1.5.0",
            "description_tooltip": null,
            "_model_module": "@jupyter-widgets/controls",
            "layout": "IPY_MODEL_a0c0f5627fb64134874e54f25d64359f"
          }
        },
        "1f0d94d533274a18907c5ca137626ad7": {
          "model_module": "@jupyter-widgets/controls",
          "model_name": "ProgressStyleModel",
          "state": {
            "_view_name": "StyleView",
            "_model_name": "ProgressStyleModel",
            "description_width": "initial",
            "_view_module": "@jupyter-widgets/base",
            "_model_module_version": "1.5.0",
            "_view_count": null,
            "_view_module_version": "1.2.0",
            "bar_color": null,
            "_model_module": "@jupyter-widgets/controls"
          }
        },
        "b3296cc44b5f46afa83aac35b0489628": {
          "model_module": "@jupyter-widgets/base",
          "model_name": "LayoutModel",
          "state": {
            "_view_name": "LayoutView",
            "grid_template_rows": null,
            "right": null,
            "justify_content": null,
            "_view_module": "@jupyter-widgets/base",
            "overflow": null,
            "_model_module_version": "1.2.0",
            "_view_count": null,
            "flex_flow": null,
            "width": null,
            "min_width": null,
            "border": null,
            "align_items": null,
            "bottom": null,
            "_model_module": "@jupyter-widgets/base",
            "top": null,
            "grid_column": null,
            "overflow_y": null,
            "overflow_x": null,
            "grid_auto_flow": null,
            "grid_area": null,
            "grid_template_columns": null,
            "flex": null,
            "_model_name": "LayoutModel",
            "justify_items": null,
            "grid_row": null,
            "max_height": null,
            "align_content": null,
            "visibility": null,
            "align_self": null,
            "height": null,
            "min_height": null,
            "padding": null,
            "grid_auto_rows": null,
            "grid_gap": null,
            "max_width": null,
            "order": null,
            "_view_module_version": "1.2.0",
            "grid_template_areas": null,
            "object_position": null,
            "object_fit": null,
            "grid_auto_columns": null,
            "margin": null,
            "display": null,
            "left": null
          }
        },
        "5901e655836e4d10aa8a67b7924198c1": {
          "model_module": "@jupyter-widgets/controls",
          "model_name": "DescriptionStyleModel",
          "state": {
            "_view_name": "StyleView",
            "_model_name": "DescriptionStyleModel",
            "description_width": "",
            "_view_module": "@jupyter-widgets/base",
            "_model_module_version": "1.5.0",
            "_view_count": null,
            "_view_module_version": "1.2.0",
            "_model_module": "@jupyter-widgets/controls"
          }
        },
        "a0c0f5627fb64134874e54f25d64359f": {
          "model_module": "@jupyter-widgets/base",
          "model_name": "LayoutModel",
          "state": {
            "_view_name": "LayoutView",
            "grid_template_rows": null,
            "right": null,
            "justify_content": null,
            "_view_module": "@jupyter-widgets/base",
            "overflow": null,
            "_model_module_version": "1.2.0",
            "_view_count": null,
            "flex_flow": null,
            "width": null,
            "min_width": null,
            "border": null,
            "align_items": null,
            "bottom": null,
            "_model_module": "@jupyter-widgets/base",
            "top": null,
            "grid_column": null,
            "overflow_y": null,
            "overflow_x": null,
            "grid_auto_flow": null,
            "grid_area": null,
            "grid_template_columns": null,
            "flex": null,
            "_model_name": "LayoutModel",
            "justify_items": null,
            "grid_row": null,
            "max_height": null,
            "align_content": null,
            "visibility": null,
            "align_self": null,
            "height": null,
            "min_height": null,
            "padding": null,
            "grid_auto_rows": null,
            "grid_gap": null,
            "max_width": null,
            "order": null,
            "_view_module_version": "1.2.0",
            "grid_template_areas": null,
            "object_position": null,
            "object_fit": null,
            "grid_auto_columns": null,
            "margin": null,
            "display": null,
            "left": null
          }
        },
        "d8bddd0ba8d54a77b6e6887c279d46b9": {
          "model_module": "@jupyter-widgets/controls",
          "model_name": "HBoxModel",
          "state": {
            "_view_name": "HBoxView",
            "_dom_classes": [],
            "_model_name": "HBoxModel",
            "_view_module": "@jupyter-widgets/controls",
            "_model_module_version": "1.5.0",
            "_view_count": null,
            "_view_module_version": "1.5.0",
            "box_style": "",
            "layout": "IPY_MODEL_1627fa8ee7f7444988f172e5549c9b77",
            "_model_module": "@jupyter-widgets/controls",
            "children": [
              "IPY_MODEL_4fa3334ed7b3499b948e47e0a63b60a4",
              "IPY_MODEL_1f9f8802648341dbb71597f25de196d3"
            ]
          }
        },
        "1627fa8ee7f7444988f172e5549c9b77": {
          "model_module": "@jupyter-widgets/base",
          "model_name": "LayoutModel",
          "state": {
            "_view_name": "LayoutView",
            "grid_template_rows": null,
            "right": null,
            "justify_content": null,
            "_view_module": "@jupyter-widgets/base",
            "overflow": null,
            "_model_module_version": "1.2.0",
            "_view_count": null,
            "flex_flow": null,
            "width": null,
            "min_width": null,
            "border": null,
            "align_items": null,
            "bottom": null,
            "_model_module": "@jupyter-widgets/base",
            "top": null,
            "grid_column": null,
            "overflow_y": null,
            "overflow_x": null,
            "grid_auto_flow": null,
            "grid_area": null,
            "grid_template_columns": null,
            "flex": null,
            "_model_name": "LayoutModel",
            "justify_items": null,
            "grid_row": null,
            "max_height": null,
            "align_content": null,
            "visibility": null,
            "align_self": null,
            "height": null,
            "min_height": null,
            "padding": null,
            "grid_auto_rows": null,
            "grid_gap": null,
            "max_width": null,
            "order": null,
            "_view_module_version": "1.2.0",
            "grid_template_areas": null,
            "object_position": null,
            "object_fit": null,
            "grid_auto_columns": null,
            "margin": null,
            "display": null,
            "left": null
          }
        },
        "4fa3334ed7b3499b948e47e0a63b60a4": {
          "model_module": "@jupyter-widgets/controls",
          "model_name": "FloatProgressModel",
          "state": {
            "_view_name": "ProgressView",
            "style": "IPY_MODEL_176d9ed5ea184bef910c6123e35d0a09",
            "_dom_classes": [],
            "description": "",
            "_model_name": "FloatProgressModel",
            "bar_style": "info",
            "max": 1,
            "_view_module": "@jupyter-widgets/controls",
            "_model_module_version": "1.5.0",
            "value": 1,
            "_view_count": null,
            "_view_module_version": "1.5.0",
            "orientation": "horizontal",
            "min": 0,
            "description_tooltip": null,
            "_model_module": "@jupyter-widgets/controls",
            "layout": "IPY_MODEL_aca6a3dc658f42beb026d8e4d29be412"
          }
        },
        "1f9f8802648341dbb71597f25de196d3": {
          "model_module": "@jupyter-widgets/controls",
          "model_name": "HTMLModel",
          "state": {
            "_view_name": "HTMLView",
            "style": "IPY_MODEL_5744ce4fa33748f6815a884a9713dbab",
            "_dom_classes": [],
            "description": "",
            "_model_name": "HTMLModel",
            "placeholder": "​",
            "_view_module": "@jupyter-widgets/controls",
            "_model_module_version": "1.5.0",
            "value": " 40430/0 [00:01&lt;00:00, 23837.77 examples/s]",
            "_view_count": null,
            "_view_module_version": "1.5.0",
            "description_tooltip": null,
            "_model_module": "@jupyter-widgets/controls",
            "layout": "IPY_MODEL_2d1a56bad2dc425ea94ee42f8b47f35d"
          }
        },
        "176d9ed5ea184bef910c6123e35d0a09": {
          "model_module": "@jupyter-widgets/controls",
          "model_name": "ProgressStyleModel",
          "state": {
            "_view_name": "StyleView",
            "_model_name": "ProgressStyleModel",
            "description_width": "initial",
            "_view_module": "@jupyter-widgets/base",
            "_model_module_version": "1.5.0",
            "_view_count": null,
            "_view_module_version": "1.2.0",
            "bar_color": null,
            "_model_module": "@jupyter-widgets/controls"
          }
        },
        "aca6a3dc658f42beb026d8e4d29be412": {
          "model_module": "@jupyter-widgets/base",
          "model_name": "LayoutModel",
          "state": {
            "_view_name": "LayoutView",
            "grid_template_rows": null,
            "right": null,
            "justify_content": null,
            "_view_module": "@jupyter-widgets/base",
            "overflow": null,
            "_model_module_version": "1.2.0",
            "_view_count": null,
            "flex_flow": null,
            "width": null,
            "min_width": null,
            "border": null,
            "align_items": null,
            "bottom": null,
            "_model_module": "@jupyter-widgets/base",
            "top": null,
            "grid_column": null,
            "overflow_y": null,
            "overflow_x": null,
            "grid_auto_flow": null,
            "grid_area": null,
            "grid_template_columns": null,
            "flex": null,
            "_model_name": "LayoutModel",
            "justify_items": null,
            "grid_row": null,
            "max_height": null,
            "align_content": null,
            "visibility": null,
            "align_self": null,
            "height": null,
            "min_height": null,
            "padding": null,
            "grid_auto_rows": null,
            "grid_gap": null,
            "max_width": null,
            "order": null,
            "_view_module_version": "1.2.0",
            "grid_template_areas": null,
            "object_position": null,
            "object_fit": null,
            "grid_auto_columns": null,
            "margin": null,
            "display": null,
            "left": null
          }
        },
        "5744ce4fa33748f6815a884a9713dbab": {
          "model_module": "@jupyter-widgets/controls",
          "model_name": "DescriptionStyleModel",
          "state": {
            "_view_name": "StyleView",
            "_model_name": "DescriptionStyleModel",
            "description_width": "",
            "_view_module": "@jupyter-widgets/base",
            "_model_module_version": "1.5.0",
            "_view_count": null,
            "_view_module_version": "1.2.0",
            "_model_module": "@jupyter-widgets/controls"
          }
        },
        "2d1a56bad2dc425ea94ee42f8b47f35d": {
          "model_module": "@jupyter-widgets/base",
          "model_name": "LayoutModel",
          "state": {
            "_view_name": "LayoutView",
            "grid_template_rows": null,
            "right": null,
            "justify_content": null,
            "_view_module": "@jupyter-widgets/base",
            "overflow": null,
            "_model_module_version": "1.2.0",
            "_view_count": null,
            "flex_flow": null,
            "width": null,
            "min_width": null,
            "border": null,
            "align_items": null,
            "bottom": null,
            "_model_module": "@jupyter-widgets/base",
            "top": null,
            "grid_column": null,
            "overflow_y": null,
            "overflow_x": null,
            "grid_auto_flow": null,
            "grid_area": null,
            "grid_template_columns": null,
            "flex": null,
            "_model_name": "LayoutModel",
            "justify_items": null,
            "grid_row": null,
            "max_height": null,
            "align_content": null,
            "visibility": null,
            "align_self": null,
            "height": null,
            "min_height": null,
            "padding": null,
            "grid_auto_rows": null,
            "grid_gap": null,
            "max_width": null,
            "order": null,
            "_view_module_version": "1.2.0",
            "grid_template_areas": null,
            "object_position": null,
            "object_fit": null,
            "grid_auto_columns": null,
            "margin": null,
            "display": null,
            "left": null
          }
        },
        "11ffe66af991475bb6cd06df8e4e88c7": {
          "model_module": "@jupyter-widgets/controls",
          "model_name": "HBoxModel",
          "state": {
            "_view_name": "HBoxView",
            "_dom_classes": [],
            "_model_name": "HBoxModel",
            "_view_module": "@jupyter-widgets/controls",
            "_model_module_version": "1.5.0",
            "_view_count": null,
            "_view_module_version": "1.5.0",
            "box_style": "",
            "layout": "IPY_MODEL_af867f2d73e8401498aad2a385762d94",
            "_model_module": "@jupyter-widgets/controls",
            "children": [
              "IPY_MODEL_44de5e38bbe3411ba19320fbd837f8ef",
              "IPY_MODEL_29bc2fd787e142fe9c1b26f556e17ad6"
            ]
          }
        },
        "af867f2d73e8401498aad2a385762d94": {
          "model_module": "@jupyter-widgets/base",
          "model_name": "LayoutModel",
          "state": {
            "_view_name": "LayoutView",
            "grid_template_rows": null,
            "right": null,
            "justify_content": null,
            "_view_module": "@jupyter-widgets/base",
            "overflow": null,
            "_model_module_version": "1.2.0",
            "_view_count": null,
            "flex_flow": null,
            "width": null,
            "min_width": null,
            "border": null,
            "align_items": null,
            "bottom": null,
            "_model_module": "@jupyter-widgets/base",
            "top": null,
            "grid_column": null,
            "overflow_y": null,
            "overflow_x": null,
            "grid_auto_flow": null,
            "grid_area": null,
            "grid_template_columns": null,
            "flex": null,
            "_model_name": "LayoutModel",
            "justify_items": null,
            "grid_row": null,
            "max_height": null,
            "align_content": null,
            "visibility": null,
            "align_self": null,
            "height": null,
            "min_height": null,
            "padding": null,
            "grid_auto_rows": null,
            "grid_gap": null,
            "max_width": null,
            "order": null,
            "_view_module_version": "1.2.0",
            "grid_template_areas": null,
            "object_position": null,
            "object_fit": null,
            "grid_auto_columns": null,
            "margin": null,
            "display": null,
            "left": null
          }
        },
        "44de5e38bbe3411ba19320fbd837f8ef": {
          "model_module": "@jupyter-widgets/controls",
          "model_name": "FloatProgressModel",
          "state": {
            "_view_name": "ProgressView",
            "style": "IPY_MODEL_328da5825a2445058819c675d46fa0c5",
            "_dom_classes": [],
            "description": "",
            "_model_name": "FloatProgressModel",
            "bar_style": "info",
            "max": 1,
            "_view_module": "@jupyter-widgets/controls",
            "_model_module_version": "1.5.0",
            "value": 1,
            "_view_count": null,
            "_view_module_version": "1.5.0",
            "orientation": "horizontal",
            "min": 0,
            "description_tooltip": null,
            "_model_module": "@jupyter-widgets/controls",
            "layout": "IPY_MODEL_f2d133fbda0a4bbc9b0191d20d9c3e75"
          }
        },
        "29bc2fd787e142fe9c1b26f556e17ad6": {
          "model_module": "@jupyter-widgets/controls",
          "model_name": "HTMLModel",
          "state": {
            "_view_name": "HTMLView",
            "style": "IPY_MODEL_333d0ff604e54a77986e6cbe387da6cb",
            "_dom_classes": [],
            "description": "",
            "_model_name": "HTMLModel",
            "placeholder": "​",
            "_view_module": "@jupyter-widgets/controls",
            "_model_module_version": "1.5.0",
            "value": " 390965/0 [00:16&lt;00:00, 19234.68 examples/s]",
            "_view_count": null,
            "_view_module_version": "1.5.0",
            "description_tooltip": null,
            "_model_module": "@jupyter-widgets/controls",
            "layout": "IPY_MODEL_fba912a87d2d43659f2631a61093fd9a"
          }
        },
        "328da5825a2445058819c675d46fa0c5": {
          "model_module": "@jupyter-widgets/controls",
          "model_name": "ProgressStyleModel",
          "state": {
            "_view_name": "StyleView",
            "_model_name": "ProgressStyleModel",
            "description_width": "initial",
            "_view_module": "@jupyter-widgets/base",
            "_model_module_version": "1.5.0",
            "_view_count": null,
            "_view_module_version": "1.2.0",
            "bar_color": null,
            "_model_module": "@jupyter-widgets/controls"
          }
        },
        "f2d133fbda0a4bbc9b0191d20d9c3e75": {
          "model_module": "@jupyter-widgets/base",
          "model_name": "LayoutModel",
          "state": {
            "_view_name": "LayoutView",
            "grid_template_rows": null,
            "right": null,
            "justify_content": null,
            "_view_module": "@jupyter-widgets/base",
            "overflow": null,
            "_model_module_version": "1.2.0",
            "_view_count": null,
            "flex_flow": null,
            "width": null,
            "min_width": null,
            "border": null,
            "align_items": null,
            "bottom": null,
            "_model_module": "@jupyter-widgets/base",
            "top": null,
            "grid_column": null,
            "overflow_y": null,
            "overflow_x": null,
            "grid_auto_flow": null,
            "grid_area": null,
            "grid_template_columns": null,
            "flex": null,
            "_model_name": "LayoutModel",
            "justify_items": null,
            "grid_row": null,
            "max_height": null,
            "align_content": null,
            "visibility": null,
            "align_self": null,
            "height": null,
            "min_height": null,
            "padding": null,
            "grid_auto_rows": null,
            "grid_gap": null,
            "max_width": null,
            "order": null,
            "_view_module_version": "1.2.0",
            "grid_template_areas": null,
            "object_position": null,
            "object_fit": null,
            "grid_auto_columns": null,
            "margin": null,
            "display": null,
            "left": null
          }
        },
        "333d0ff604e54a77986e6cbe387da6cb": {
          "model_module": "@jupyter-widgets/controls",
          "model_name": "DescriptionStyleModel",
          "state": {
            "_view_name": "StyleView",
            "_model_name": "DescriptionStyleModel",
            "description_width": "",
            "_view_module": "@jupyter-widgets/base",
            "_model_module_version": "1.5.0",
            "_view_count": null,
            "_view_module_version": "1.2.0",
            "_model_module": "@jupyter-widgets/controls"
          }
        },
        "fba912a87d2d43659f2631a61093fd9a": {
          "model_module": "@jupyter-widgets/base",
          "model_name": "LayoutModel",
          "state": {
            "_view_name": "LayoutView",
            "grid_template_rows": null,
            "right": null,
            "justify_content": null,
            "_view_module": "@jupyter-widgets/base",
            "overflow": null,
            "_model_module_version": "1.2.0",
            "_view_count": null,
            "flex_flow": null,
            "width": null,
            "min_width": null,
            "border": null,
            "align_items": null,
            "bottom": null,
            "_model_module": "@jupyter-widgets/base",
            "top": null,
            "grid_column": null,
            "overflow_y": null,
            "overflow_x": null,
            "grid_auto_flow": null,
            "grid_area": null,
            "grid_template_columns": null,
            "flex": null,
            "_model_name": "LayoutModel",
            "justify_items": null,
            "grid_row": null,
            "max_height": null,
            "align_content": null,
            "visibility": null,
            "align_self": null,
            "height": null,
            "min_height": null,
            "padding": null,
            "grid_auto_rows": null,
            "grid_gap": null,
            "max_width": null,
            "order": null,
            "_view_module_version": "1.2.0",
            "grid_template_areas": null,
            "object_position": null,
            "object_fit": null,
            "grid_auto_columns": null,
            "margin": null,
            "display": null,
            "left": null
          }
        },
        "9380ad1e02e34852b4626aebd0923c65": {
          "model_module": "@jupyter-widgets/controls",
          "model_name": "HBoxModel",
          "state": {
            "_view_name": "HBoxView",
            "_dom_classes": [],
            "_model_name": "HBoxModel",
            "_view_module": "@jupyter-widgets/controls",
            "_model_module_version": "1.5.0",
            "_view_count": null,
            "_view_module_version": "1.5.0",
            "box_style": "",
            "layout": "IPY_MODEL_698b2bc5e47a45528b11dde8ea8f657a",
            "_model_module": "@jupyter-widgets/controls",
            "children": [
              "IPY_MODEL_ac7b58ea825c4781841eb6aa2967dce3",
              "IPY_MODEL_bbeadc8c58e248b8a724fe347d578d89"
            ]
          }
        },
        "698b2bc5e47a45528b11dde8ea8f657a": {
          "model_module": "@jupyter-widgets/base",
          "model_name": "LayoutModel",
          "state": {
            "_view_name": "LayoutView",
            "grid_template_rows": null,
            "right": null,
            "justify_content": null,
            "_view_module": "@jupyter-widgets/base",
            "overflow": null,
            "_model_module_version": "1.2.0",
            "_view_count": null,
            "flex_flow": null,
            "width": null,
            "min_width": null,
            "border": null,
            "align_items": null,
            "bottom": null,
            "_model_module": "@jupyter-widgets/base",
            "top": null,
            "grid_column": null,
            "overflow_y": null,
            "overflow_x": null,
            "grid_auto_flow": null,
            "grid_area": null,
            "grid_template_columns": null,
            "flex": null,
            "_model_name": "LayoutModel",
            "justify_items": null,
            "grid_row": null,
            "max_height": null,
            "align_content": null,
            "visibility": null,
            "align_self": null,
            "height": null,
            "min_height": null,
            "padding": null,
            "grid_auto_rows": null,
            "grid_gap": null,
            "max_width": null,
            "order": null,
            "_view_module_version": "1.2.0",
            "grid_template_areas": null,
            "object_position": null,
            "object_fit": null,
            "grid_auto_columns": null,
            "margin": null,
            "display": null,
            "left": null
          }
        },
        "ac7b58ea825c4781841eb6aa2967dce3": {
          "model_module": "@jupyter-widgets/controls",
          "model_name": "FloatProgressModel",
          "state": {
            "_view_name": "ProgressView",
            "style": "IPY_MODEL_3640631a7af24c5182dd877f4953652d",
            "_dom_classes": [],
            "description": "100%",
            "_model_name": "FloatProgressModel",
            "bar_style": "success",
            "max": 1264,
            "_view_module": "@jupyter-widgets/controls",
            "_model_module_version": "1.5.0",
            "value": 1264,
            "_view_count": null,
            "_view_module_version": "1.5.0",
            "orientation": "horizontal",
            "min": 0,
            "description_tooltip": null,
            "_model_module": "@jupyter-widgets/controls",
            "layout": "IPY_MODEL_8cc4d9e0adb241df8f6eeeee79058b67"
          }
        },
        "bbeadc8c58e248b8a724fe347d578d89": {
          "model_module": "@jupyter-widgets/controls",
          "model_name": "HTMLModel",
          "state": {
            "_view_name": "HTMLView",
            "style": "IPY_MODEL_67055e91279646cca5eccffa3652dc4c",
            "_dom_classes": [],
            "description": "",
            "_model_name": "HTMLModel",
            "placeholder": "​",
            "_view_module": "@jupyter-widgets/controls",
            "_model_module_version": "1.5.0",
            "value": " 1264/1264 [00:21&lt;00:00, 60.02ba/s]",
            "_view_count": null,
            "_view_module_version": "1.5.0",
            "description_tooltip": null,
            "_model_module": "@jupyter-widgets/controls",
            "layout": "IPY_MODEL_ff434ea1f4134f64877a470d5ca992b7"
          }
        },
        "3640631a7af24c5182dd877f4953652d": {
          "model_module": "@jupyter-widgets/controls",
          "model_name": "ProgressStyleModel",
          "state": {
            "_view_name": "StyleView",
            "_model_name": "ProgressStyleModel",
            "description_width": "initial",
            "_view_module": "@jupyter-widgets/base",
            "_model_module_version": "1.5.0",
            "_view_count": null,
            "_view_module_version": "1.2.0",
            "bar_color": null,
            "_model_module": "@jupyter-widgets/controls"
          }
        },
        "8cc4d9e0adb241df8f6eeeee79058b67": {
          "model_module": "@jupyter-widgets/base",
          "model_name": "LayoutModel",
          "state": {
            "_view_name": "LayoutView",
            "grid_template_rows": null,
            "right": null,
            "justify_content": null,
            "_view_module": "@jupyter-widgets/base",
            "overflow": null,
            "_model_module_version": "1.2.0",
            "_view_count": null,
            "flex_flow": null,
            "width": null,
            "min_width": null,
            "border": null,
            "align_items": null,
            "bottom": null,
            "_model_module": "@jupyter-widgets/base",
            "top": null,
            "grid_column": null,
            "overflow_y": null,
            "overflow_x": null,
            "grid_auto_flow": null,
            "grid_area": null,
            "grid_template_columns": null,
            "flex": null,
            "_model_name": "LayoutModel",
            "justify_items": null,
            "grid_row": null,
            "max_height": null,
            "align_content": null,
            "visibility": null,
            "align_self": null,
            "height": null,
            "min_height": null,
            "padding": null,
            "grid_auto_rows": null,
            "grid_gap": null,
            "max_width": null,
            "order": null,
            "_view_module_version": "1.2.0",
            "grid_template_areas": null,
            "object_position": null,
            "object_fit": null,
            "grid_auto_columns": null,
            "margin": null,
            "display": null,
            "left": null
          }
        },
        "67055e91279646cca5eccffa3652dc4c": {
          "model_module": "@jupyter-widgets/controls",
          "model_name": "DescriptionStyleModel",
          "state": {
            "_view_name": "StyleView",
            "_model_name": "DescriptionStyleModel",
            "description_width": "",
            "_view_module": "@jupyter-widgets/base",
            "_model_module_version": "1.5.0",
            "_view_count": null,
            "_view_module_version": "1.2.0",
            "_model_module": "@jupyter-widgets/controls"
          }
        },
        "ff434ea1f4134f64877a470d5ca992b7": {
          "model_module": "@jupyter-widgets/base",
          "model_name": "LayoutModel",
          "state": {
            "_view_name": "LayoutView",
            "grid_template_rows": null,
            "right": null,
            "justify_content": null,
            "_view_module": "@jupyter-widgets/base",
            "overflow": null,
            "_model_module_version": "1.2.0",
            "_view_count": null,
            "flex_flow": null,
            "width": null,
            "min_width": null,
            "border": null,
            "align_items": null,
            "bottom": null,
            "_model_module": "@jupyter-widgets/base",
            "top": null,
            "grid_column": null,
            "overflow_y": null,
            "overflow_x": null,
            "grid_auto_flow": null,
            "grid_area": null,
            "grid_template_columns": null,
            "flex": null,
            "_model_name": "LayoutModel",
            "justify_items": null,
            "grid_row": null,
            "max_height": null,
            "align_content": null,
            "visibility": null,
            "align_self": null,
            "height": null,
            "min_height": null,
            "padding": null,
            "grid_auto_rows": null,
            "grid_gap": null,
            "max_width": null,
            "order": null,
            "_view_module_version": "1.2.0",
            "grid_template_areas": null,
            "object_position": null,
            "object_fit": null,
            "grid_auto_columns": null,
            "margin": null,
            "display": null,
            "left": null
          }
        },
        "64744b118fa945919025019a7254f778": {
          "model_module": "@jupyter-widgets/controls",
          "model_name": "HBoxModel",
          "state": {
            "_view_name": "HBoxView",
            "_dom_classes": [],
            "_model_name": "HBoxModel",
            "_view_module": "@jupyter-widgets/controls",
            "_model_module_version": "1.5.0",
            "_view_count": null,
            "_view_module_version": "1.5.0",
            "box_style": "",
            "layout": "IPY_MODEL_d088c5cbdda84a758650379dc5e479dd",
            "_model_module": "@jupyter-widgets/controls",
            "children": [
              "IPY_MODEL_ef15314d0a2742388b392dbdad6c009a",
              "IPY_MODEL_4cfd8dcf3d30420ea54be4039504254c"
            ]
          }
        },
        "d088c5cbdda84a758650379dc5e479dd": {
          "model_module": "@jupyter-widgets/base",
          "model_name": "LayoutModel",
          "state": {
            "_view_name": "LayoutView",
            "grid_template_rows": null,
            "right": null,
            "justify_content": null,
            "_view_module": "@jupyter-widgets/base",
            "overflow": null,
            "_model_module_version": "1.2.0",
            "_view_count": null,
            "flex_flow": null,
            "width": null,
            "min_width": null,
            "border": null,
            "align_items": null,
            "bottom": null,
            "_model_module": "@jupyter-widgets/base",
            "top": null,
            "grid_column": null,
            "overflow_y": null,
            "overflow_x": null,
            "grid_auto_flow": null,
            "grid_area": null,
            "grid_template_columns": null,
            "flex": null,
            "_model_name": "LayoutModel",
            "justify_items": null,
            "grid_row": null,
            "max_height": null,
            "align_content": null,
            "visibility": null,
            "align_self": null,
            "height": null,
            "min_height": null,
            "padding": null,
            "grid_auto_rows": null,
            "grid_gap": null,
            "max_width": null,
            "order": null,
            "_view_module_version": "1.2.0",
            "grid_template_areas": null,
            "object_position": null,
            "object_fit": null,
            "grid_auto_columns": null,
            "margin": null,
            "display": null,
            "left": null
          }
        },
        "ef15314d0a2742388b392dbdad6c009a": {
          "model_module": "@jupyter-widgets/controls",
          "model_name": "FloatProgressModel",
          "state": {
            "_view_name": "ProgressView",
            "style": "IPY_MODEL_e6167b0179854e66a1de81f5ac15c088",
            "_dom_classes": [],
            "description": "100%",
            "_model_name": "FloatProgressModel",
            "bar_style": "success",
            "max": 41,
            "_view_module": "@jupyter-widgets/controls",
            "_model_module_version": "1.5.0",
            "value": 41,
            "_view_count": null,
            "_view_module_version": "1.5.0",
            "orientation": "horizontal",
            "min": 0,
            "description_tooltip": null,
            "_model_module": "@jupyter-widgets/controls",
            "layout": "IPY_MODEL_43e9c5f955384943b2cdc59bceffd82b"
          }
        },
        "4cfd8dcf3d30420ea54be4039504254c": {
          "model_module": "@jupyter-widgets/controls",
          "model_name": "HTMLModel",
          "state": {
            "_view_name": "HTMLView",
            "style": "IPY_MODEL_f71930792dd34ac980f863351fcced91",
            "_dom_classes": [],
            "description": "",
            "_model_name": "HTMLModel",
            "placeholder": "​",
            "_view_module": "@jupyter-widgets/controls",
            "_model_module_version": "1.5.0",
            "value": " 41/41 [09:32&lt;00:00, 13.97s/ba]",
            "_view_count": null,
            "_view_module_version": "1.5.0",
            "description_tooltip": null,
            "_model_module": "@jupyter-widgets/controls",
            "layout": "IPY_MODEL_ab375384783c44b2a2523d5ffef3e2f1"
          }
        },
        "e6167b0179854e66a1de81f5ac15c088": {
          "model_module": "@jupyter-widgets/controls",
          "model_name": "ProgressStyleModel",
          "state": {
            "_view_name": "StyleView",
            "_model_name": "ProgressStyleModel",
            "description_width": "initial",
            "_view_module": "@jupyter-widgets/base",
            "_model_module_version": "1.5.0",
            "_view_count": null,
            "_view_module_version": "1.2.0",
            "bar_color": null,
            "_model_module": "@jupyter-widgets/controls"
          }
        },
        "43e9c5f955384943b2cdc59bceffd82b": {
          "model_module": "@jupyter-widgets/base",
          "model_name": "LayoutModel",
          "state": {
            "_view_name": "LayoutView",
            "grid_template_rows": null,
            "right": null,
            "justify_content": null,
            "_view_module": "@jupyter-widgets/base",
            "overflow": null,
            "_model_module_version": "1.2.0",
            "_view_count": null,
            "flex_flow": null,
            "width": null,
            "min_width": null,
            "border": null,
            "align_items": null,
            "bottom": null,
            "_model_module": "@jupyter-widgets/base",
            "top": null,
            "grid_column": null,
            "overflow_y": null,
            "overflow_x": null,
            "grid_auto_flow": null,
            "grid_area": null,
            "grid_template_columns": null,
            "flex": null,
            "_model_name": "LayoutModel",
            "justify_items": null,
            "grid_row": null,
            "max_height": null,
            "align_content": null,
            "visibility": null,
            "align_self": null,
            "height": null,
            "min_height": null,
            "padding": null,
            "grid_auto_rows": null,
            "grid_gap": null,
            "max_width": null,
            "order": null,
            "_view_module_version": "1.2.0",
            "grid_template_areas": null,
            "object_position": null,
            "object_fit": null,
            "grid_auto_columns": null,
            "margin": null,
            "display": null,
            "left": null
          }
        },
        "f71930792dd34ac980f863351fcced91": {
          "model_module": "@jupyter-widgets/controls",
          "model_name": "DescriptionStyleModel",
          "state": {
            "_view_name": "StyleView",
            "_model_name": "DescriptionStyleModel",
            "description_width": "",
            "_view_module": "@jupyter-widgets/base",
            "_model_module_version": "1.5.0",
            "_view_count": null,
            "_view_module_version": "1.2.0",
            "_model_module": "@jupyter-widgets/controls"
          }
        },
        "ab375384783c44b2a2523d5ffef3e2f1": {
          "model_module": "@jupyter-widgets/base",
          "model_name": "LayoutModel",
          "state": {
            "_view_name": "LayoutView",
            "grid_template_rows": null,
            "right": null,
            "justify_content": null,
            "_view_module": "@jupyter-widgets/base",
            "overflow": null,
            "_model_module_version": "1.2.0",
            "_view_count": null,
            "flex_flow": null,
            "width": null,
            "min_width": null,
            "border": null,
            "align_items": null,
            "bottom": null,
            "_model_module": "@jupyter-widgets/base",
            "top": null,
            "grid_column": null,
            "overflow_y": null,
            "overflow_x": null,
            "grid_auto_flow": null,
            "grid_area": null,
            "grid_template_columns": null,
            "flex": null,
            "_model_name": "LayoutModel",
            "justify_items": null,
            "grid_row": null,
            "max_height": null,
            "align_content": null,
            "visibility": null,
            "align_self": null,
            "height": null,
            "min_height": null,
            "padding": null,
            "grid_auto_rows": null,
            "grid_gap": null,
            "max_width": null,
            "order": null,
            "_view_module_version": "1.2.0",
            "grid_template_areas": null,
            "object_position": null,
            "object_fit": null,
            "grid_auto_columns": null,
            "margin": null,
            "display": null,
            "left": null
          }
        }
      }
    }
  },
  "cells": [
    {
      "cell_type": "code",
      "metadata": {
        "id": "siLXd3afswDH"
      },
      "source": [
        "!pip install transformers\n",
        "!pip install datasets"
      ],
      "execution_count": null,
      "outputs": []
    },
    {
      "cell_type": "code",
      "metadata": {
        "id": "ohrhjczkT65q"
      },
      "source": [
        "from transformers import BertForSequenceClassification, BertTokenizer\n",
        "from datasets import load_dataset, load_metric, load_from_disk\n",
        "from torch.utils.data import DataLoader, SequentialSampler\n",
        "from functools import partial\n",
        "import torch\n",
        "from tqdm import tqdm\n",
        "import matplotlib.pyplot as plt\n",
        "import numpy as np\n",
        "import gc\n",
        "from scipy import stats\n",
        "import numpy as np\n",
        "import json\n",
        "import seaborn as sns"
      ],
      "execution_count": 45,
      "outputs": []
    },
    {
      "cell_type": "code",
      "metadata": {
        "id": "cJx1zC4vhTk8"
      },
      "source": [
        "sns.set_style('darkgrid')"
      ],
      "execution_count": null,
      "outputs": []
    },
    {
      "cell_type": "code",
      "metadata": {
        "id": "_78kvZQZUZRA",
        "colab": {
          "base_uri": "https://localhost:8080/",
          "height": 268,
          "referenced_widgets": [
            "e1e8525879f0419889700859ee19f92f",
            "8fcb695ef9844648bf5f46848d0bd2ee",
            "b3d1f749ba5749668f20fc2ef6483fe9",
            "e82f1beac1de45e1b2531677ef65ae27",
            "ec6619aa76604031a9e9cb957deb30c6",
            "b699a2f4617e4a118cb6879ace3b0f8b",
            "bdbcd69459b44d0da602b70be2f29726",
            "f7bfffd11795433a8efb6cd7847bb607",
            "042786f55c6a4e6eb69bd1199a6ad106",
            "78804f2a26274d87801ddd78e9dcdbe2",
            "0608ebd0447e43f499be6e7ee6fcdf06",
            "3429fc7d168648a9b0efb8fff5ffed62",
            "42007fd9beb348a7aaf1fc9a3a160301",
            "8da859722dd74cf1b9ba6805d34706a7",
            "9984fe819fce462e8d11820dfb226f7c",
            "942b2b83d505422fb3838f01f37e05ee",
            "49ad7baeebd348a3a69cd5c9f65a61bc",
            "3e7f495fa7fc4960ab726df06d6f0198",
            "9f61407f291d4d97989146b0e7245b11",
            "b739b2e16a51414e85382532ca5c45d4",
            "0cc6eef3ed014500ba652aea3c42bf51",
            "db2666e5c2b14693a2dd281abdc46856",
            "3097a603001346c39629be62d4cab8cf",
            "e76b3f6c4297454d90caad268488fcbd",
            "05537f3024a648b39518bae497433d16",
            "194e193828f2464f920996cb3a9e7519",
            "b57786f1154b4a6685602a50934522c4",
            "b4f302c6d7e14cb49033b19f0e7e68dc",
            "439548d578d14e68942258a1de7e119f",
            "b517eb61917940fea0c4e685d28dcbba",
            "142223ecd7b44c46b9ea06101c64391c",
            "6dad826149b04753ab74f08cc36c1a96",
            "e8c6d2cbc4984812bd60498cd59c3b20",
            "9ea37fbfa4a14b1fb0e49865ce1d91bd",
            "9db352ea626b458994ed920928cfe2bc",
            "ec7b33cb8e4c4af99db94c5ac3c467be",
            "fd84f60ddcd94c00b8e37560418d0fda",
            "6931dce420b740338384ff61ed492767",
            "e148c18230b349c99e4e58326b4c1166",
            "4c530fc134fc4d0186706ed242dd45cc"
          ]
        },
        "outputId": "8bdf86d3-e7bc-419b-e2ce-ad85ba987f89"
      },
      "source": [
        "model = BertForSequenceClassification.from_pretrained('A-bhimany-u08/bert-base-cased-qqp')\n",
        "tokenizer = BertTokenizer.from_pretrained('bert-base-cased')"
      ],
      "execution_count": 46,
      "outputs": [
        {
          "output_type": "display_data",
          "data": {
            "application/vnd.jupyter.widget-view+json": {
              "model_id": "e1e8525879f0419889700859ee19f92f",
              "version_minor": 0,
              "version_major": 2
            },
            "text/plain": [
              "HBox(children=(FloatProgress(value=0.0, description='Downloading', max=622.0, style=ProgressStyle(description_…"
            ]
          },
          "metadata": {
            "tags": []
          }
        },
        {
          "output_type": "stream",
          "text": [
            "\n"
          ],
          "name": "stdout"
        },
        {
          "output_type": "display_data",
          "data": {
            "application/vnd.jupyter.widget-view+json": {
              "model_id": "042786f55c6a4e6eb69bd1199a6ad106",
              "version_minor": 0,
              "version_major": 2
            },
            "text/plain": [
              "HBox(children=(FloatProgress(value=0.0, description='Downloading', max=433333375.0, style=ProgressStyle(descri…"
            ]
          },
          "metadata": {
            "tags": []
          }
        },
        {
          "output_type": "stream",
          "text": [
            "\n"
          ],
          "name": "stdout"
        },
        {
          "output_type": "display_data",
          "data": {
            "application/vnd.jupyter.widget-view+json": {
              "model_id": "49ad7baeebd348a3a69cd5c9f65a61bc",
              "version_minor": 0,
              "version_major": 2
            },
            "text/plain": [
              "HBox(children=(FloatProgress(value=0.0, description='Downloading', max=213450.0, style=ProgressStyle(descripti…"
            ]
          },
          "metadata": {
            "tags": []
          }
        },
        {
          "output_type": "stream",
          "text": [
            "\n"
          ],
          "name": "stdout"
        },
        {
          "output_type": "display_data",
          "data": {
            "application/vnd.jupyter.widget-view+json": {
              "model_id": "05537f3024a648b39518bae497433d16",
              "version_minor": 0,
              "version_major": 2
            },
            "text/plain": [
              "HBox(children=(FloatProgress(value=0.0, description='Downloading', max=29.0, style=ProgressStyle(description_w…"
            ]
          },
          "metadata": {
            "tags": []
          }
        },
        {
          "output_type": "stream",
          "text": [
            "\n"
          ],
          "name": "stdout"
        },
        {
          "output_type": "display_data",
          "data": {
            "application/vnd.jupyter.widget-view+json": {
              "model_id": "e8c6d2cbc4984812bd60498cd59c3b20",
              "version_minor": 0,
              "version_major": 2
            },
            "text/plain": [
              "HBox(children=(FloatProgress(value=0.0, description='Downloading', max=435797.0, style=ProgressStyle(descripti…"
            ]
          },
          "metadata": {
            "tags": []
          }
        },
        {
          "output_type": "stream",
          "text": [
            "\n"
          ],
          "name": "stdout"
        }
      ]
    },
    {
      "cell_type": "code",
      "metadata": {
        "id": "-0jiswSwsTrV",
        "colab": {
          "base_uri": "https://localhost:8080/",
          "height": 67,
          "referenced_widgets": [
            "b509e1cd096f4aaaaa8250e47f33bec1",
            "8c2f73fb61fa421aa78f5ce604a0c644",
            "a8aa56057493484c934a60af939218f3",
            "60c65e8f9bcd4353ad77feeaf12aec99",
            "90dc2646cf4f4ab5b13114f288267ab1",
            "eda8ba5ca34e4a1c8d880467714dc2fb",
            "3c314077433e45fa8841b071bdf985ea",
            "5a9fcf30378e4046b20cdfdaf1b97958"
          ]
        },
        "outputId": "59199921-4ba9-465b-b589-a588b87bfbcb"
      },
      "source": [
        "acc = load_metric('accuracy')"
      ],
      "execution_count": 47,
      "outputs": [
        {
          "output_type": "display_data",
          "data": {
            "application/vnd.jupyter.widget-view+json": {
              "model_id": "b509e1cd096f4aaaaa8250e47f33bec1",
              "version_minor": 0,
              "version_major": 2
            },
            "text/plain": [
              "HBox(children=(FloatProgress(value=0.0, description='Downloading', max=1362.0, style=ProgressStyle(description…"
            ]
          },
          "metadata": {
            "tags": []
          }
        },
        {
          "output_type": "stream",
          "text": [
            "\n"
          ],
          "name": "stdout"
        }
      ]
    },
    {
      "cell_type": "code",
      "metadata": {
        "colab": {
          "base_uri": "https://localhost:8080/",
          "height": 224,
          "referenced_widgets": [
            "6627e8abe4fb4a8391b2086dc0704b37",
            "e88588c4671b434b8a97a9b924dbad95",
            "1deb42ba0c7047ff90f9907798cd2c74",
            "9862382255bc49cfbdeff660f4fbe241",
            "b062a8166dfc417aaf514d032994fef8",
            "a546c5244384475897ed9217b3b8d40e",
            "e7485d1865514573b8395ff10df9f658",
            "006a3bf1a1bb49b78584a22c330c16b6",
            "f4744674ffea4109862b5897a94ce496",
            "91829b58426d43e8bc745bb6a24f4759",
            "7f580609fbb547b5b31377a93b31408b",
            "56630bdb06c84f76b99613a56cfcc684",
            "37c62755b1664ed18905823f08e4bb40",
            "75b51440d6f544ff87e438569f393dee",
            "25415cc58a5a475f89fdeda8698fe0e4",
            "06c8e38338dc48ecb57c340ffd5eceef",
            "77833d39331241e9a536ebbbc03e059d",
            "e37c774e84794b44987f32381e218a8a",
            "01ef1001e0544ab4b2ce6bd0c36ed1c7",
            "75deb1b269e6469982e8822b8f183936",
            "54280e8a455d43f19f5eca531745a763",
            "973784a25aee4febafde1ecab24012f8",
            "1830f65179d641828a8a52c2367322ea",
            "a53a9b4900a4410e90ca2da6bfde71a6",
            "eb5fff711f0449f985e233e3ec841048",
            "78daef6bb45044e19ad09409c747dafa",
            "be48ea8db0754a05aae912013469c0cf",
            "ebf5c509427f4eac8c3ca14a94663e50",
            "1f0d94d533274a18907c5ca137626ad7",
            "b3296cc44b5f46afa83aac35b0489628",
            "5901e655836e4d10aa8a67b7924198c1",
            "a0c0f5627fb64134874e54f25d64359f",
            "d8bddd0ba8d54a77b6e6887c279d46b9",
            "1627fa8ee7f7444988f172e5549c9b77",
            "4fa3334ed7b3499b948e47e0a63b60a4",
            "1f9f8802648341dbb71597f25de196d3",
            "176d9ed5ea184bef910c6123e35d0a09",
            "aca6a3dc658f42beb026d8e4d29be412",
            "5744ce4fa33748f6815a884a9713dbab",
            "2d1a56bad2dc425ea94ee42f8b47f35d",
            "11ffe66af991475bb6cd06df8e4e88c7",
            "af867f2d73e8401498aad2a385762d94",
            "44de5e38bbe3411ba19320fbd837f8ef",
            "29bc2fd787e142fe9c1b26f556e17ad6",
            "328da5825a2445058819c675d46fa0c5",
            "f2d133fbda0a4bbc9b0191d20d9c3e75",
            "333d0ff604e54a77986e6cbe387da6cb",
            "fba912a87d2d43659f2631a61093fd9a"
          ]
        },
        "id": "2YJyCVlCUjIg",
        "outputId": "895f98ec-6ee7-44f5-b188-133034c1ad30"
      },
      "source": [
        "dataset = load_dataset('glue', 'qqp', split = 'validation')"
      ],
      "execution_count": 48,
      "outputs": [
        {
          "output_type": "display_data",
          "data": {
            "application/vnd.jupyter.widget-view+json": {
              "model_id": "6627e8abe4fb4a8391b2086dc0704b37",
              "version_minor": 0,
              "version_major": 2
            },
            "text/plain": [
              "HBox(children=(FloatProgress(value=0.0, description='Downloading', max=7777.0, style=ProgressStyle(description…"
            ]
          },
          "metadata": {
            "tags": []
          }
        },
        {
          "output_type": "stream",
          "text": [
            "\n"
          ],
          "name": "stdout"
        },
        {
          "output_type": "display_data",
          "data": {
            "application/vnd.jupyter.widget-view+json": {
              "model_id": "f4744674ffea4109862b5897a94ce496",
              "version_minor": 0,
              "version_major": 2
            },
            "text/plain": [
              "HBox(children=(FloatProgress(value=0.0, description='Downloading', max=4473.0, style=ProgressStyle(description…"
            ]
          },
          "metadata": {
            "tags": []
          }
        },
        {
          "output_type": "stream",
          "text": [
            "\n",
            "Downloading and preparing dataset glue/qqp (download: 39.76 MiB, generated: 106.55 MiB, post-processed: Unknown size, total: 146.32 MiB) to /root/.cache/huggingface/datasets/glue/qqp/1.0.0/dacbe3125aa31d7f70367a07a8a9e72a5a0bfeb5fc42e75c9db75b96da6053ad...\n"
          ],
          "name": "stdout"
        },
        {
          "output_type": "display_data",
          "data": {
            "application/vnd.jupyter.widget-view+json": {
              "model_id": "77833d39331241e9a536ebbbc03e059d",
              "version_minor": 0,
              "version_major": 2
            },
            "text/plain": [
              "HBox(children=(FloatProgress(value=0.0, description='Downloading', max=41696084.0, style=ProgressStyle(descrip…"
            ]
          },
          "metadata": {
            "tags": []
          }
        },
        {
          "output_type": "stream",
          "text": [
            "\n"
          ],
          "name": "stdout"
        },
        {
          "output_type": "display_data",
          "data": {
            "application/vnd.jupyter.widget-view+json": {
              "model_id": "eb5fff711f0449f985e233e3ec841048",
              "version_minor": 0,
              "version_major": 2
            },
            "text/plain": [
              "HBox(children=(FloatProgress(value=1.0, bar_style='info', max=1.0), HTML(value='')))"
            ]
          },
          "metadata": {
            "tags": []
          }
        },
        {
          "output_type": "stream",
          "text": [
            "\r"
          ],
          "name": "stdout"
        },
        {
          "output_type": "display_data",
          "data": {
            "application/vnd.jupyter.widget-view+json": {
              "model_id": "d8bddd0ba8d54a77b6e6887c279d46b9",
              "version_minor": 0,
              "version_major": 2
            },
            "text/plain": [
              "HBox(children=(FloatProgress(value=1.0, bar_style='info', max=1.0), HTML(value='')))"
            ]
          },
          "metadata": {
            "tags": []
          }
        },
        {
          "output_type": "stream",
          "text": [
            "\r"
          ],
          "name": "stdout"
        },
        {
          "output_type": "display_data",
          "data": {
            "application/vnd.jupyter.widget-view+json": {
              "model_id": "11ffe66af991475bb6cd06df8e4e88c7",
              "version_minor": 0,
              "version_major": 2
            },
            "text/plain": [
              "HBox(children=(FloatProgress(value=1.0, bar_style='info', max=1.0), HTML(value='')))"
            ]
          },
          "metadata": {
            "tags": []
          }
        },
        {
          "output_type": "stream",
          "text": [
            "\rDataset glue downloaded and prepared to /root/.cache/huggingface/datasets/glue/qqp/1.0.0/dacbe3125aa31d7f70367a07a8a9e72a5a0bfeb5fc42e75c9db75b96da6053ad. Subsequent calls will reuse this data.\n"
          ],
          "name": "stdout"
        }
      ]
    },
    {
      "cell_type": "code",
      "metadata": {
        "colab": {
          "base_uri": "https://localhost:8080/",
          "height": 67,
          "referenced_widgets": [
            "9380ad1e02e34852b4626aebd0923c65",
            "698b2bc5e47a45528b11dde8ea8f657a",
            "ac7b58ea825c4781841eb6aa2967dce3",
            "bbeadc8c58e248b8a724fe347d578d89",
            "3640631a7af24c5182dd877f4953652d",
            "8cc4d9e0adb241df8f6eeeee79058b67",
            "67055e91279646cca5eccffa3652dc4c",
            "ff434ea1f4134f64877a470d5ca992b7"
          ]
        },
        "id": "eQ_fBR62VcEf",
        "outputId": "d9701728-8b61-41a9-da82-6e4af7d0ceac"
      },
      "source": [
        "eval_dataset = dataset.map(lambda examples: tokenizer(examples['question1'], examples['question2'], padding= True), batch_size= 32, batched= True)"
      ],
      "execution_count": null,
      "outputs": [
        {
          "output_type": "display_data",
          "data": {
            "application/vnd.jupyter.widget-view+json": {
              "model_id": "9380ad1e02e34852b4626aebd0923c65",
              "version_minor": 0,
              "version_major": 2
            },
            "text/plain": [
              "HBox(children=(FloatProgress(value=0.0, max=1264.0), HTML(value='')))"
            ]
          },
          "metadata": {
            "tags": []
          }
        },
        {
          "output_type": "stream",
          "text": [
            "\n"
          ],
          "name": "stdout"
        }
      ]
    },
    {
      "cell_type": "code",
      "metadata": {
        "colab": {
          "base_uri": "https://localhost:8080/",
          "height": 67,
          "referenced_widgets": [
            "64744b118fa945919025019a7254f778",
            "d088c5cbdda84a758650379dc5e479dd",
            "ef15314d0a2742388b392dbdad6c009a",
            "4cfd8dcf3d30420ea54be4039504254c",
            "e6167b0179854e66a1de81f5ac15c088",
            "43e9c5f955384943b2cdc59bceffd82b",
            "f71930792dd34ac980f863351fcced91",
            "ab375384783c44b2a2523d5ffef3e2f1"
          ]
        },
        "id": "NliImtgjVv63",
        "outputId": "eab75b04-b718-4760-a937-119270b3b5e5"
      },
      "source": [
        "eval_dataset = eval_dataset.map(lambda examples: {'labels': examples['label']}, batched= True)"
      ],
      "execution_count": null,
      "outputs": [
        {
          "output_type": "display_data",
          "data": {
            "application/vnd.jupyter.widget-view+json": {
              "model_id": "64744b118fa945919025019a7254f778",
              "version_minor": 0,
              "version_major": 2
            },
            "text/plain": [
              "HBox(children=(FloatProgress(value=0.0, max=41.0), HTML(value='')))"
            ]
          },
          "metadata": {
            "tags": []
          }
        },
        {
          "output_type": "stream",
          "text": [
            "\n"
          ],
          "name": "stdout"
        }
      ]
    },
    {
      "cell_type": "code",
      "metadata": {
        "id": "-DIeigTnV3xY"
      },
      "source": [
        "eval_dataset.set_format(type = \"torch\", columns = ['token_type_ids', 'attention_mask', 'input_ids', 'labels'])"
      ],
      "execution_count": null,
      "outputs": []
    },
    {
      "cell_type": "code",
      "metadata": {
        "id": "O7JL_MOVXOVG"
      },
      "source": [
        "eval_dataloader = DataLoader(eval_dataset, batch_size = 32, sampler = SequentialSampler(eval_dataset))"
      ],
      "execution_count": null,
      "outputs": []
    },
    {
      "cell_type": "code",
      "metadata": {
        "id": "W35PMm14sTra"
      },
      "source": [
        "def calculate_rest_sep_attention(attention_maps, input_ids, pad_token_id, sep_token_id, device):\n",
        "    '''attention_maps of shapes (bs, num_layer, num_heads, batch_len, batch_len)\n",
        "       input_ids of shapes (batch_size, batch_len)'''\n",
        "    \n",
        "    batch_size,num_layers,num_heads,batch_len,_ = attention_maps.size()\n",
        "    rest_sep = torch.zeros(num_layers, num_heads).to(device)\n",
        "    for batch in range(batch_size):\n",
        "        ids = input_ids[batch].detach()\n",
        "        try:\n",
        "            seq_len = next(i for i in range(len(ids)) if ids[i] == pad_token_id) #calculating the length of sequence without padding tokens.\n",
        "        except:\n",
        "            seq_len = batch_len\n",
        "#         seq_len = attn_map['attention_map'].size(-1)\n",
        "        attn_map = attention_maps[batch].detach()[:, :, :seq_len, :seq_len]\n",
        "        ids = ids[:seq_len]\n",
        "#         print(seq_len, ids)\n",
        "        mask1 = (ids == sep_token_id)[None,None,None,:].to(device) #mask along the row to remove attention to tokens other than SEP\n",
        "        mask2 = (ids == sep_token_id)[None,None,:,None].to(device) #mask along the column to remove attention from SEP tokens.\n",
        "    \n",
        "#         print(mask1, mask2)\n",
        "\n",
        "        rest_sep += attn_map.masked_fill(~mask1, 0).masked_fill(mask2,0).sum(-1).sum(-1)/(seq_len-2)\n",
        "        \n",
        "    return rest_sep"
      ],
      "execution_count": null,
      "outputs": []
    },
    {
      "cell_type": "code",
      "metadata": {
        "id": "3Wnt8UXksTra"
      },
      "source": [
        "def calculate_head_importance(model, dataloader, pad_token_id, sep_token_id, device = 'cuda'):\n",
        "    \n",
        "    '''\n",
        "    This function calculates head_importance (using method put forward in https://arxiv.org/abs/1905.10650) and res_sep_attention\n",
        "    '''\n",
        "    \n",
        "    model = model.to(device)\n",
        "    head_mask = torch.ones(model.config.num_hidden_layers, model.config.num_attention_heads).to(device)\n",
        "    head_importance = torch.zeros_like(head_mask).to(device)\n",
        "    rest_sep_attention = torch.zeros_like(head_mask).to(device)\n",
        "    \n",
        "    head_mask.requires_grad_(requires_grad = True)\n",
        "    tot_tokens= 0\n",
        "    for batch in tqdm(dataloader):\n",
        "        for i,j in batch.items():\n",
        "            batch[i] = j.to(device)\n",
        "            \n",
        "        out = model(**batch, head_mask = head_mask, output_attentions = True)\n",
        "        \n",
        "        out.loss.backward()\n",
        "        \n",
        "        attention_maps = torch.stack(out.attentions, dim = 0).transpose(0,1)\n",
        "        rest_sep_attention += calculate_rest_sep_attention(attention_maps, batch['input_ids'], pad_token_id, sep_token_id, device = device)\n",
        "        head_importance += head_mask.grad.abs().detach()\n",
        "        tot_tokens += batch['attention_mask'].float().detach().sum().data\n",
        "        \n",
        "    head_importance /= tot_tokens \n",
        "    rest_sep_attention /= len(dataloader.dataset)\n",
        "    \n",
        "    return head_importance, rest_sep_attention\n",
        "            \n",
        "    "
      ],
      "execution_count": null,
      "outputs": []
    },
    {
      "cell_type": "code",
      "metadata": {
        "id": "MTtajJutsTrb"
      },
      "source": [
        "head_imp, res_sep_attn = calculate_head_importance(model, eval_dataloader, tokenizer.pad_token_id, tokenizer.sep_token_id)"
      ],
      "execution_count": null,
      "outputs": []
    },
    {
      "cell_type": "code",
      "metadata": {
        "id": "TQvG2gI1sTrb"
      },
      "source": [
        "head_imp = head_imp.cpu()\n",
        "res_sep_attn = res_sep_attn.cpu()"
      ],
      "execution_count": null,
      "outputs": []
    },
    {
      "cell_type": "code",
      "metadata": {
        "id": "8yQrU-Bkag-f"
      },
      "source": [
        "# head_imp = torch.load('/content/drive/MyDrive/attention_head/head_imp.pkl')\n",
        "# res_sep_attn = torch.load('/content/drive/MyDrive/attention_head/res_sep_attn.pkl')"
      ],
      "execution_count": 34,
      "outputs": []
    },
    {
      "cell_type": "code",
      "metadata": {
        "id": "YoxDoHlWsTrc"
      },
      "source": [
        "def normalize(mat):\n",
        "    return (mat-mat.mean())/(mat.std())"
      ],
      "execution_count": 35,
      "outputs": []
    },
    {
      "cell_type": "code",
      "metadata": {
        "id": "WygtVVWrsTrc"
      },
      "source": [
        "head_imp_normalised, res_sep_attn_normalised = map(normalize, (head_imp, res_sep_attn))"
      ],
      "execution_count": 36,
      "outputs": []
    },
    {
      "cell_type": "code",
      "metadata": {
        "id": "SCUCIU2WsTrd"
      },
      "source": [
        "def calculate_covariance_correlation(arr1, arr2):\n",
        "    \n",
        "    cov = (arr1*arr2).mean() - arr1.mean()*arr2.mean()\n",
        "    corr = cov/(arr1.std()* arr2.std())\n",
        "    \n",
        "    return cov.item(), corr.data.item()\n",
        "    "
      ],
      "execution_count": 40,
      "outputs": []
    },
    {
      "cell_type": "code",
      "metadata": {
        "id": "0kSwyxpGsTrd"
      },
      "source": [
        "def get_points(matrix):\n",
        "    num_layers, num_heads = matrix.size()\n",
        "    layer_num, head_values, average_across_layer = [],[],[]\n",
        "    for layer in range(num_layers):\n",
        "        for head in range(num_heads):\n",
        "            head_values.append(matrix[layer,head])\n",
        "            layer_num.append(1+layer)\n",
        "            \n",
        "        average_across_layer.append(matrix[layer,:].mean(dim = -1))\n",
        "        \n",
        "        \n",
        "    return layer_num, head_values, average_across_layer"
      ],
      "execution_count": 37,
      "outputs": []
    },
    {
      "cell_type": "code",
      "metadata": {
        "id": "ZiFvdEaYsTre"
      },
      "source": [
        "def plot_averages(matrix,ax, label, head_color, avg_color, ylabel):\n",
        "    xs, ys, averages = get_points(matrix)\n",
        "    ax.scatter(xs, ys, label = label, color = head_color)\n",
        "    \n",
        "    ax.plot(1+ np.arange(len(averages)), averages, color = avg_color)\n",
        "    ax.legend(loc = \"best\")\n",
        "    ax.set_xlabel(\"Layer\")\n",
        "    ax.set_ylabel(ylabel)"
      ],
      "execution_count": 38,
      "outputs": []
    },
    {
      "cell_type": "code",
      "metadata": {
        "colab": {
          "base_uri": "https://localhost:8080/",
          "height": 334
        },
        "id": "lyTck0SisTre",
        "outputId": "aaa2154c-b9d0-466d-a55c-da1c081b3aac"
      },
      "source": [
        "plt.figure(figsize = (10,5))\n",
        "\n",
        "ax1 = plt.subplot(1,1,1)\n",
        "plot_averages(res_sep_attn_normalised, ax1, 'rest-sep', 'red', 'red', 'Average REST-SEP attention')\n",
        "\n",
        "plot_averages(head_imp_normalised, ax1, 'head_imp', 'blue', 'blue', 'Normalised Scores')\n"
      ],
      "execution_count": 39,
      "outputs": [
        {
          "output_type": "display_data",
          "data": {
            "image/png": "[encoded data removed]",
            "text/plain": [
              "<Figure size 720x360 with 1 Axes>"
            ]
          },
          "metadata": {
            "tags": []
          }
        }
      ]
    },
    {
      "cell_type": "code",
      "metadata": {
        "colab": {
          "base_uri": "https://localhost:8080/"
        },
        "id": "A7Rgj1d-sTrf",
        "outputId": "21880a67-3200-4df7-be50-99553850db06"
      },
      "source": [
        "for layer in range(model.config.num_hidden_layers):\n",
        "        print(f'Layer ->{layer}, correlation -> {calculate_covariance_correlation(head_imp[layer, :], res_sep_attn[layer, :])[1]}')"
      ],
      "execution_count": 49,
      "outputs": [
        {
          "output_type": "stream",
          "text": [
            "Layer ->0, correlation -> -0.5367436408996582\n",
            "Layer ->1, correlation -> 0.45760104060173035\n",
            "Layer ->2, correlation -> -0.41785088181495667\n",
            "Layer ->3, correlation -> -0.5498131513595581\n",
            "Layer ->4, correlation -> -0.646125316619873\n",
            "Layer ->5, correlation -> -0.0016403688350692391\n",
            "Layer ->6, correlation -> -0.18465787172317505\n",
            "Layer ->7, correlation -> -0.4094505310058594\n",
            "Layer ->8, correlation -> -0.4784487783908844\n",
            "Layer ->9, correlation -> -0.7705582976341248\n",
            "Layer ->10, correlation -> -0.4376329779624939\n",
            "Layer ->11, correlation -> -0.08528419584035873\n"
          ],
          "name": "stdout"
        }
      ]
    },
    {
      "cell_type": "code",
      "metadata": {
        "id": "2eHIAhk9DODN"
      },
      "source": [
        "def listify(item):\n",
        "    if isinstance(item, list): return item\n",
        "    else: return [item]"
      ],
      "execution_count": null,
      "outputs": []
    },
    {
      "cell_type": "code",
      "metadata": {
        "id": "OccNchhvhRlp"
      },
      "source": [
        "def calculate_pvalue(pred1, pred2, labels, metric):\n",
        "\n",
        "  '''Calculate the pvalues for the two sets of predictions\n",
        "    pvalue is important only when the pruned models accuracy is better than full model's and pvalue is <0.01 (denoting statistical significance). \n",
        "    That would mean that pruned model will give better accuracy more often than not on data with similar distribution when pruned similarly. Test statistic is \n",
        "    assumed to belong to t-distribution.\n",
        "  '''\n",
        "  acc1 = metric.compute(predictions = pred1, references = labels)['accuracy']\n",
        "  acc2 = metric.compute(predictions = pred2, references = labels)['accuracy']\n",
        "\n",
        "  mean = acc1 - acc2\n",
        "\n",
        "  differences = torch.eq(pred1, labels).float() - torch.eq(pred2, labels).float()\n",
        "  std = differences.std()\n",
        "\n",
        "  test_statistic = (mean*np.sqrt(len(labels)))/std.numpy()\n",
        "  pvalue = stats.t.sf(np.abs(test_statistic), len(labels)-1)*2\n",
        "\n",
        "  return pvalue"
      ],
      "execution_count": null,
      "outputs": []
    },
    {
      "cell_type": "code",
      "metadata": {
        "id": "26AidO24sTrf"
      },
      "source": [
        "def prune_and_evaluate_model(model, dataloader, metric, rest_sep_attn, head_imp_scores = None,full_model_predictions = [], pruning_interval = 8, \n",
        "                             device = 'cuda', strategy = 'rest_sep', testing = False):\n",
        "  \n",
        "    '''\n",
        "    This function prunes `pruning_interval` heads at a time according to the `strategy` and calculates the performance of the pruned model\n",
        "    model -> model to evaluate and prune\n",
        "    dataloader -> eval dataloader used to test the model. It's of instance torch.utils.data.DataLoader\n",
        "    metric -> metric to judge the model by\n",
        "    rest_sep_attn -> matrix of shape (num_layers, num_heads) where res_sep_attn[i,j] tells the average attention paid to [SEP] token in head j of layer i.\n",
        "    head_imp_scores -> matrix of shape (num_layers, num_heads) where head_imp_scores[i,j] tells the importance of head j of layer i  to the model's predictions.\n",
        "    full_model_predictions -> predictions of the full model (w/o any pruned heads) on the eval_dataset\n",
        "    pruning_interval -> Number of heads to prune each time before calculating the metric on pruned model\n",
        "    strategy -> Three options: rest_sep -> Prune the heads in decreasing order of average attention paid to the SEP token\n",
        "                              head_imp -> Prune the heads in increasing order of their importance score\n",
        "                              random -> prune randomly and cause chaos\n",
        "    '''\n",
        "      \n",
        "    model = model.to(device)\n",
        "    model.eval()\n",
        "    \n",
        "    total_heads = model.config.num_hidden_layers*model.config.num_attention_heads\n",
        "    if strategy ==  'rest_sep': #Prune the heads in decreasing order of average attention paid to the SEP token\n",
        "      print('Heads will be pruned based on rest_sep attention scores')\n",
        "      topk = torch.topk(rest_sep_attn.view(-1), k = total_heads).indices\n",
        "\n",
        "    elif strategy == 'head_imp': #Prune the heads in increasing order of their importance score\n",
        "      print('Heads will be pruned based on head_imp scores')\n",
        "      topk = torch.topk(head_imp_scores.view(-1), k = total_heads, largest = False).indices\n",
        "\n",
        "    else: ##randomly pick heads to prune\n",
        "      print('Heads will be pruned randomly')\n",
        "      topk = torch.randperm(total_heads) \n",
        "\n",
        "\n",
        "    head_mask = torch.ones(total_heads).to(device)\n",
        "    \n",
        "    accuracies = []\n",
        "    pvalues = []\n",
        "\n",
        "\n",
        "    labels = dataloader.dataset['labels']\n",
        "\n",
        "    if len(full_model_predictions) == 0 and not testing: #calculating predictions by full model (without any heads pruned) to compare to pruned models' predictions\n",
        "\n",
        "      full_model_predictions = []\n",
        "      for batch in tqdm(dataloader, desc = 'calculating full model predictions'):\n",
        "        for i,j in batch.items():\n",
        "          batch[i] = j.to(device)\n",
        "                  \n",
        "        out = model(**batch)\n",
        "\n",
        "        preds = torch.argmax(out.logits, dim = -1)\n",
        "\n",
        "        full_model_predictions.append(preds.clone().cpu())\n",
        "\n",
        "        gc.collect()\n",
        "\n",
        "      full_model_predictions = torch.cat(full_model_predictions, dim = 0)\n",
        "\n",
        "    start_index = 0\n",
        "    prune_dict = {i:[] for i in range(model.config.num_hidden_layers)} #dictionary with layer numbers as keys and heads numbers for heads to prune as corresponding value\n",
        "\n",
        "    while start_index < len(topk):\n",
        "\n",
        "      indexes = topk[start_index: start_index + pruning_interval].to(device)\n",
        "      start_index += pruning_interval\n",
        "      \n",
        "      head_mask.index_fill_(0, indexes, 0)\n",
        "      hm = head_mask.reshape(model.config.num_hidden_layers, model.config.num_attention_heads)\n",
        "\n",
        "      pruned_heads = 0\n",
        "      for layer in range(len(hm)):\n",
        "        heads_to_prune = listify((1 - hm[layer].long()).nonzero().squeeze().tolist())\n",
        "        heads_already_pruned = prune_dict[layer]\n",
        "        for head in heads_to_prune:\n",
        "          if head not in heads_already_pruned and len(prune_dict[layer]) < len(hm)-1: prune_dict[layer].append(head)\n",
        "            \n",
        "        pruned_heads += len(prune_dict[layer])\n",
        "\n",
        "\n",
        "      pruned_predictions = []\n",
        "\n",
        "      model.prune_heads(prune_dict)\n",
        "      num_elem = sum(p.numel() for p in model.parameters()) #calculate the no of parameters in pruned model\n",
        "\n",
        "      for batch in tqdm(dataloader, desc = f'Pruned {pruned_heads} heads, num params = {num_elem}'):\n",
        "        for i,j in batch.items():\n",
        "            batch[i] = j.to(device)\n",
        "              \n",
        "        out = model(**batch)\n",
        "\n",
        "        preds = torch.argmax(out.logits, dim = -1)\n",
        "        \n",
        "        metric.add_batch(predictions = preds, references = batch['labels'])\n",
        "        pruned_predictions.append(preds.clone().cpu())\n",
        "\n",
        "      if not testing: \n",
        "        accuracies.append(metric.compute()['accuracy'])\n",
        "        pruned_predictions= torch.cat(pruned_predictions, dim = 0)\n",
        "        pvalue = calculate_pvalue(full_model_predictions, pruned_predictions, labels, metric)\n",
        "\n",
        "        pvalues.append(pvalue)\n",
        "\n",
        "    return accuracies,pvalues,full_model_predictions\n"
      ],
      "execution_count": null,
      "outputs": []
    },
    {
      "cell_type": "code",
      "metadata": {
        "colab": {
          "base_uri": "https://localhost:8080/"
        },
        "id": "ObrW6HFMsTrf",
        "outputId": "0dfeb5c3-9d78-4627-cba8-cfb0ab37cc8a"
      },
      "source": [
        "rsa_accuracies, rsa_pvalues, full_predictions = prune_and_evaluate_model(model, eval_dataloader, acc, res_sep_attn, pruning_interval= 4, \n",
        "                                                                  testing = False, strategy = 'rest_sep')"
      ],
      "execution_count": null,
      "outputs": [
        {
          "output_type": "stream",
          "text": [
            "\rcalculating full model predictions:   0%|          | 0/1264 [00:00<?, ?it/s]"
          ],
          "name": "stderr"
        },
        {
          "output_type": "stream",
          "text": [
            "Heads will be pruned based on rest_sep attention scores\n"
          ],
          "name": "stdout"
        },
        {
          "output_type": "stream",
          "text": [
            "calculating full model predictions: 100%|██████████| 1264/1264 [04:36<00:00,  4.56it/s]\n",
            "Pruned 4 heads, num params = 107524610: 100%|██████████| 1264/1264 [01:48<00:00, 11.69it/s]\n",
            "Pruned 8 heads, num params = 106737410: 100%|██████████| 1264/1264 [01:47<00:00, 11.79it/s]\n",
            "Pruned 12 heads, num params = 105950210: 100%|██████████| 1264/1264 [01:46<00:00, 11.85it/s]\n",
            "Pruned 16 heads, num params = 105163010: 100%|██████████| 1264/1264 [01:45<00:00, 11.96it/s]\n",
            "Pruned 20 heads, num params = 104375810: 100%|██████████| 1264/1264 [01:45<00:00, 11.98it/s]\n",
            "Pruned 24 heads, num params = 103588610: 100%|██████████| 1264/1264 [01:44<00:00, 12.09it/s]\n",
            "Pruned 28 heads, num params = 102801410: 100%|██████████| 1264/1264 [01:44<00:00, 12.12it/s]\n",
            "Pruned 32 heads, num params = 102014210: 100%|██████████| 1264/1264 [01:43<00:00, 12.21it/s]\n",
            "Pruned 36 heads, num params = 101227010: 100%|██████████| 1264/1264 [01:42<00:00, 12.30it/s]\n",
            "Pruned 40 heads, num params = 100439810: 100%|██████████| 1264/1264 [01:42<00:00, 12.38it/s]\n",
            "Pruned 44 heads, num params = 99652610: 100%|██████████| 1264/1264 [01:41<00:00, 12.47it/s]\n",
            "Pruned 48 heads, num params = 98865410: 100%|██████████| 1264/1264 [01:40<00:00, 12.53it/s]\n",
            "Pruned 52 heads, num params = 98078210: 100%|██████████| 1264/1264 [01:40<00:00, 12.60it/s]\n",
            "Pruned 56 heads, num params = 97291010: 100%|██████████| 1264/1264 [01:39<00:00, 12.64it/s]\n",
            "Pruned 60 heads, num params = 96503810: 100%|██████████| 1264/1264 [01:39<00:00, 12.75it/s]\n",
            "Pruned 64 heads, num params = 95716610: 100%|██████████| 1264/1264 [01:38<00:00, 12.82it/s]\n",
            "Pruned 68 heads, num params = 94929410: 100%|██████████| 1264/1264 [01:38<00:00, 12.89it/s]\n",
            "Pruned 72 heads, num params = 94142210: 100%|██████████| 1264/1264 [01:37<00:00, 12.93it/s]\n",
            "Pruned 76 heads, num params = 93355010: 100%|██████████| 1264/1264 [01:36<00:00, 13.03it/s]\n",
            "Pruned 79 heads, num params = 92764610: 100%|██████████| 1264/1264 [01:36<00:00, 13.07it/s]\n",
            "Pruned 83 heads, num params = 91977410: 100%|██████████| 1264/1264 [01:36<00:00, 13.14it/s]\n",
            "Pruned 86 heads, num params = 91387010: 100%|██████████| 1264/1264 [01:36<00:00, 13.17it/s]\n",
            "Pruned 90 heads, num params = 90599810: 100%|██████████| 1264/1264 [01:35<00:00, 13.26it/s]\n",
            "Pruned 93 heads, num params = 90009410: 100%|██████████| 1264/1264 [01:34<00:00, 13.32it/s]\n",
            "Pruned 97 heads, num params = 89222210: 100%|██████████| 1264/1264 [01:34<00:00, 13.42it/s]\n",
            "Pruned 101 heads, num params = 88435010: 100%|██████████| 1264/1264 [01:33<00:00, 13.49it/s]\n",
            "Pruned 105 heads, num params = 87647810: 100%|██████████| 1264/1264 [01:33<00:00, 13.55it/s]\n",
            "Pruned 108 heads, num params = 87057410: 100%|██████████| 1264/1264 [01:32<00:00, 13.63it/s]\n",
            "Pruned 112 heads, num params = 86270210: 100%|██████████| 1264/1264 [01:32<00:00, 13.69it/s]\n",
            "Pruned 115 heads, num params = 85679810: 100%|██████████| 1264/1264 [01:31<00:00, 13.75it/s]\n",
            "Pruned 119 heads, num params = 84892610: 100%|██████████| 1264/1264 [01:31<00:00, 13.76it/s]\n",
            "Pruned 122 heads, num params = 84302210: 100%|██████████| 1264/1264 [01:31<00:00, 13.86it/s]\n",
            "Pruned 124 heads, num params = 83908610: 100%|██████████| 1264/1264 [01:30<00:00, 13.90it/s]\n",
            "Pruned 127 heads, num params = 83318210: 100%|██████████| 1264/1264 [01:31<00:00, 13.88it/s]\n",
            "Pruned 131 heads, num params = 82531010: 100%|██████████| 1264/1264 [01:30<00:00, 13.96it/s]\n",
            "Pruned 132 heads, num params = 82334210: 100%|██████████| 1264/1264 [01:30<00:00, 13.99it/s]\n"
          ],
          "name": "stderr"
        }
      ]
    },
    {
      "cell_type": "code",
      "metadata": {
        "id": "O8qbY-xbYUxN"
      },
      "source": [
        "with open('/content/drive/MyDrive/attention_head/rest_sep_stats.json', 'w') as file:\n",
        "  json.dump({'accuracies':rsa_accuracies, 'pvalues':rsa_pvalues, 'full_model_predictions': full_predictions.tolist()}, file)"
      ],
      "execution_count": null,
      "outputs": []
    },
    {
      "cell_type": "code",
      "metadata": {
        "id": "_L4p_gS4S36u"
      },
      "source": [
        "model = BertForSequenceClassification.from_pretrained('A-bhimany-u08/bert-base-cased-qqp')"
      ],
      "execution_count": null,
      "outputs": []
    },
    {
      "cell_type": "code",
      "metadata": {
        "colab": {
          "base_uri": "https://localhost:8080/"
        },
        "id": "1_DG_3OgSfRA",
        "outputId": "8d32efd0-e214-411c-8ba6-4ffc33b865c1"
      },
      "source": [
        "hi_accuracies, hi_pvalues, _ = prune_and_evaluate_model(model, eval_dataloader, acc, res_sep_attn, pruning_interval= 4, full_model_predictions = full_predictions, head_imp_scores= head_imp,\n",
        "                                                                  testing = False, strategy = 'head_imp')"
      ],
      "execution_count": null,
      "outputs": [
        {
          "output_type": "stream",
          "text": [
            "\rPruned 4 heads, num params = 107524610:   0%|          | 0/1264 [00:00<?, ?it/s]"
          ],
          "name": "stderr"
        },
        {
          "output_type": "stream",
          "text": [
            "Heads will be pruned based on head_imp scores\n"
          ],
          "name": "stdout"
        },
        {
          "output_type": "stream",
          "text": [
            "Pruned 4 heads, num params = 107524610: 100%|██████████| 1264/1264 [01:47<00:00, 11.80it/s]\n",
            "Pruned 8 heads, num params = 106737410: 100%|██████████| 1264/1264 [01:46<00:00, 11.85it/s]\n",
            "Pruned 12 heads, num params = 105950210: 100%|██████████| 1264/1264 [01:46<00:00, 11.88it/s]\n",
            "Pruned 16 heads, num params = 105163010: 100%|██████████| 1264/1264 [01:45<00:00, 11.97it/s]\n",
            "Pruned 20 heads, num params = 104375810: 100%|██████████| 1264/1264 [01:45<00:00, 12.01it/s]\n",
            "Pruned 24 heads, num params = 103588610: 100%|██████████| 1264/1264 [01:44<00:00, 12.10it/s]\n",
            "Pruned 28 heads, num params = 102801410: 100%|██████████| 1264/1264 [01:44<00:00, 12.13it/s]\n",
            "Pruned 32 heads, num params = 102014210: 100%|██████████| 1264/1264 [01:43<00:00, 12.24it/s]\n",
            "Pruned 36 heads, num params = 101227010: 100%|██████████| 1264/1264 [01:42<00:00, 12.35it/s]\n",
            "Pruned 40 heads, num params = 100439810: 100%|██████████| 1264/1264 [01:42<00:00, 12.37it/s]\n",
            "Pruned 44 heads, num params = 99652610: 100%|██████████| 1264/1264 [01:41<00:00, 12.45it/s]\n",
            "Pruned 48 heads, num params = 98865410: 100%|██████████| 1264/1264 [01:40<00:00, 12.52it/s]\n",
            "Pruned 52 heads, num params = 98078210: 100%|██████████| 1264/1264 [01:40<00:00, 12.59it/s]\n",
            "Pruned 56 heads, num params = 97291010: 100%|██████████| 1264/1264 [01:39<00:00, 12.66it/s]\n",
            "Pruned 60 heads, num params = 96503810: 100%|██████████| 1264/1264 [01:39<00:00, 12.75it/s]\n",
            "Pruned 64 heads, num params = 95716610: 100%|██████████| 1264/1264 [01:38<00:00, 12.80it/s]\n",
            "Pruned 68 heads, num params = 94929410: 100%|██████████| 1264/1264 [01:38<00:00, 12.89it/s]\n",
            "Pruned 72 heads, num params = 94142210: 100%|██████████| 1264/1264 [01:38<00:00, 12.86it/s]\n",
            "Pruned 76 heads, num params = 93355010: 100%|██████████| 1264/1264 [01:37<00:00, 12.98it/s]\n",
            "Pruned 80 heads, num params = 92567810: 100%|██████████| 1264/1264 [01:36<00:00, 13.07it/s]\n",
            "Pruned 84 heads, num params = 91780610: 100%|██████████| 1264/1264 [01:36<00:00, 13.14it/s]\n",
            "Pruned 88 heads, num params = 90993410: 100%|██████████| 1264/1264 [01:35<00:00, 13.22it/s]\n",
            "Pruned 92 heads, num params = 90206210: 100%|██████████| 1264/1264 [01:35<00:00, 13.24it/s]\n",
            "Pruned 96 heads, num params = 89419010: 100%|██████████| 1264/1264 [01:34<00:00, 13.32it/s]\n",
            "Pruned 100 heads, num params = 88631810: 100%|██████████| 1264/1264 [01:34<00:00, 13.39it/s]\n",
            "Pruned 103 heads, num params = 88041410: 100%|██████████| 1264/1264 [01:34<00:00, 13.43it/s]\n",
            "Pruned 107 heads, num params = 87254210: 100%|██████████| 1264/1264 [01:33<00:00, 13.52it/s]\n",
            "Pruned 111 heads, num params = 86467010: 100%|██████████| 1264/1264 [01:33<00:00, 13.58it/s]\n",
            "Pruned 115 heads, num params = 85679810: 100%|██████████| 1264/1264 [01:32<00:00, 13.63it/s]\n",
            "Pruned 118 heads, num params = 85089410: 100%|██████████| 1264/1264 [01:32<00:00, 13.73it/s]\n",
            "Pruned 122 heads, num params = 84302210: 100%|██████████| 1264/1264 [01:31<00:00, 13.74it/s]\n",
            "Pruned 124 heads, num params = 83908610: 100%|██████████| 1264/1264 [01:31<00:00, 13.75it/s]\n",
            "Pruned 127 heads, num params = 83318210: 100%|██████████| 1264/1264 [01:31<00:00, 13.87it/s]\n",
            "Pruned 128 heads, num params = 83121410: 100%|██████████| 1264/1264 [01:30<00:00, 13.92it/s]\n",
            "Pruned 131 heads, num params = 82531010: 100%|██████████| 1264/1264 [01:30<00:00, 14.03it/s]\n",
            "Pruned 132 heads, num params = 82334210: 100%|██████████| 1264/1264 [01:30<00:00, 14.02it/s]\n"
          ],
          "name": "stderr"
        }
      ]
    },
    {
      "cell_type": "code",
      "metadata": {
        "id": "7uvs1L0ESvvu"
      },
      "source": [
        "with open('/content/drive/MyDrive/attention_head/head_imp_stats.json', 'w') as file:\n",
        "  json.dump({'accuracies':hi_accuracies, 'pvalues':hi_pvalues}, file)"
      ],
      "execution_count": null,
      "outputs": []
    },
    {
      "cell_type": "code",
      "metadata": {
        "id": "xQJ4OHE5aCBx"
      },
      "source": [
        "model = BertForSequenceClassification.from_pretrained('A-bhimany-u08/bert-base-cased-qqp')"
      ],
      "execution_count": null,
      "outputs": []
    },
    {
      "cell_type": "code",
      "metadata": {
        "id": "CaYrLorasTrg",
        "colab": {
          "base_uri": "https://localhost:8080/"
        },
        "outputId": "d9eb5b55-d02a-4ce0-c073-ebed46149c4d"
      },
      "source": [
        "random_accuracies,random_pvalues,_ = prune_and_evaluate_model(model, eval_dataloader, acc, res_sep_attn, strategy = 'random', \n",
        "                                                            full_model_predictions = full_predictions, pruning_interval = 4)"
      ],
      "execution_count": null,
      "outputs": [
        {
          "output_type": "stream",
          "text": [
            "Pruned 4 heads, num params = 107524610: 100%|██████████| 1264/1264 [02:26<00:00,  8.65it/s]\n",
            "Pruned 8 heads, num params = 106737410: 100%|██████████| 1264/1264 [02:25<00:00,  8.71it/s]\n",
            "Pruned 12 heads, num params = 105950210: 100%|██████████| 1264/1264 [02:24<00:00,  8.74it/s]\n",
            "Pruned 16 heads, num params = 105163010: 100%|██████████| 1264/1264 [02:23<00:00,  8.82it/s]\n",
            "Pruned 20 heads, num params = 104375810: 100%|██████████| 1264/1264 [02:22<00:00,  8.88it/s]\n",
            "Pruned 24 heads, num params = 103588610: 100%|██████████| 1264/1264 [02:21<00:00,  8.92it/s]\n",
            "Pruned 28 heads, num params = 102801410: 100%|██████████| 1264/1264 [02:20<00:00,  9.01it/s]\n",
            "Pruned 32 heads, num params = 102014210: 100%|██████████| 1264/1264 [02:18<00:00,  9.11it/s]\n",
            "Pruned 36 heads, num params = 101227010: 100%|██████████| 1264/1264 [02:17<00:00,  9.17it/s]\n",
            "Pruned 40 heads, num params = 100439810: 100%|██████████| 1264/1264 [02:16<00:00,  9.23it/s]\n",
            "Pruned 44 heads, num params = 99652610: 100%|██████████| 1264/1264 [02:15<00:00,  9.36it/s]\n",
            "Pruned 48 heads, num params = 98865410: 100%|██████████| 1264/1264 [02:13<00:00,  9.45it/s]\n",
            "Pruned 52 heads, num params = 98078210: 100%|██████████| 1264/1264 [02:12<00:00,  9.51it/s]\n",
            "Pruned 56 heads, num params = 97291010: 100%|██████████| 1264/1264 [02:11<00:00,  9.61it/s]\n",
            "Pruned 60 heads, num params = 96503810: 100%|██████████| 1264/1264 [02:10<00:00,  9.69it/s]\n",
            "Pruned 64 heads, num params = 95716610: 100%|██████████| 1264/1264 [02:09<00:00,  9.74it/s]\n",
            "Pruned 68 heads, num params = 94929410: 100%|██████████| 1264/1264 [02:10<00:00,  9.71it/s]\n",
            "Pruned 72 heads, num params = 94142210: 100%|██████████| 1264/1264 [02:08<00:00,  9.87it/s]\n",
            "Pruned 76 heads, num params = 93355010: 100%|██████████| 1264/1264 [02:07<00:00,  9.89it/s]\n",
            "Pruned 80 heads, num params = 92567810: 100%|██████████| 1264/1264 [02:06<00:00, 10.02it/s]\n",
            "Pruned 84 heads, num params = 91780610: 100%|██████████| 1264/1264 [02:05<00:00, 10.08it/s]\n",
            "Pruned 88 heads, num params = 90993410: 100%|██████████| 1264/1264 [02:04<00:00, 10.15it/s]\n",
            "Pruned 92 heads, num params = 90206210: 100%|██████████| 1264/1264 [02:03<00:00, 10.23it/s]\n",
            "Pruned 96 heads, num params = 89419010: 100%|██████████| 1264/1264 [02:02<00:00, 10.31it/s]\n",
            "Pruned 100 heads, num params = 88631810: 100%|██████████| 1264/1264 [02:01<00:00, 10.42it/s]\n",
            "Pruned 104 heads, num params = 87844610: 100%|██████████| 1264/1264 [01:59<00:00, 10.53it/s]\n",
            "Pruned 107 heads, num params = 87254210: 100%|██████████| 1264/1264 [01:59<00:00, 10.58it/s]\n",
            "Pruned 111 heads, num params = 86467010: 100%|██████████| 1264/1264 [01:58<00:00, 10.67it/s]\n",
            "Pruned 115 heads, num params = 85679810: 100%|██████████| 1264/1264 [01:57<00:00, 10.74it/s]\n",
            "Pruned 118 heads, num params = 85089410: 100%|██████████| 1264/1264 [01:57<00:00, 10.80it/s]\n",
            "Pruned 121 heads, num params = 84499010: 100%|██████████| 1264/1264 [01:56<00:00, 10.88it/s]\n",
            "Pruned 124 heads, num params = 83908610: 100%|██████████| 1264/1264 [01:55<00:00, 10.95it/s]\n",
            "Pruned 127 heads, num params = 83318210: 100%|██████████| 1264/1264 [01:54<00:00, 11.03it/s]\n",
            "Pruned 129 heads, num params = 82924610: 100%|██████████| 1264/1264 [01:54<00:00, 11.07it/s]\n",
            "Pruned 131 heads, num params = 82531010: 100%|██████████| 1264/1264 [01:53<00:00, 11.11it/s]\n",
            "Pruned 132 heads, num params = 82334210: 100%|██████████| 1264/1264 [01:53<00:00, 11.15it/s]\n"
          ],
          "name": "stderr"
        }
      ]
    },
    {
      "cell_type": "code",
      "metadata": {
        "id": "8Ih-LXrMakan"
      },
      "source": [
        "with open('/content/drive/MyDrive/attention_head/random_stats_1.json', 'w') as file:\n",
        "  json.dump({'accuracies':random_accuracies, 'pvalues':random_pvalues}, file)"
      ],
      "execution_count": null,
      "outputs": []
    },
    {
      "cell_type": "markdown",
      "metadata": {
        "id": "6yClc7EVZ0WM"
      },
      "source": [
        "## Plotting The Accuracies From Different Pruning Strategy"
      ]
    },
    {
      "cell_type": "code",
      "metadata": {
        "id": "f8C8lLFqU7Xk"
      },
      "source": [
        "with open('/content/drive/MyDrive/attention_head/head_imp_stats.json', 'r') as file:\n",
        "  head_imp_stats = json.load(file)"
      ],
      "execution_count": 4,
      "outputs": []
    },
    {
      "cell_type": "code",
      "metadata": {
        "id": "L-ChCk9XU7P0"
      },
      "source": [
        "with open('/content/drive/MyDrive/attention_head/rest_sep_stats.json', 'r') as file:\n",
        "  rest_sep_stats = json.load(file)"
      ],
      "execution_count": 3,
      "outputs": []
    },
    {
      "cell_type": "code",
      "metadata": {
        "id": "IXwMsGO7eePt"
      },
      "source": [
        "with open('/content/drive/MyDrive/attention_head/random_stats_1.json', 'r') as file:\n",
        "  random_stats = json.load(file)"
      ],
      "execution_count": 5,
      "outputs": []
    },
    {
      "cell_type": "code",
      "metadata": {
        "id": "Satl5-H6VcTl"
      },
      "source": [
        "rsa_accuracies = rest_sep_stats['accuracies']\n",
        "random_accuracies = random_stats['accuracies']\n",
        "head_imp_accuracies = head_imp_stats['accuracies']"
      ],
      "execution_count": 6,
      "outputs": []
    },
    {
      "cell_type": "code",
      "metadata": {
        "id": "cC77A8ljWFFf"
      },
      "source": [
        "rsa_accuracies, random_accuracies, head_imp_accuracies = map(np.array, (rsa_accuracies, random_accuracies, head_imp_accuracies))"
      ],
      "execution_count": 15,
      "outputs": []
    },
    {
      "cell_type": "code",
      "metadata": {
        "id": "b39VOCakVwgH"
      },
      "source": [
        "xaxis = np.arange(len(rsa_accuracies))*4"
      ],
      "execution_count": 8,
      "outputs": []
    },
    {
      "cell_type": "code",
      "metadata": {
        "colab": {
          "base_uri": "https://localhost:8080/",
          "height": 356
        },
        "id": "Rcqo8cVGVPDO",
        "outputId": "124e48ea-2be9-4d76-f761-cf96df4beba4"
      },
      "source": [
        "plt.figure(figsize = (20,5))\n",
        "ax = plt.subplot(1,2,1)\n",
        "ax.set_ylim(50,95)\n",
        "\n",
        "ax.plot(xaxis, rsa_accuracies*100, label = 'REST-SEP Pruning')\n",
        "ax.plot(xaxis, head_imp_accuracies*100, color = 'red', label = 'Head Imp pruning')\n",
        "ax.plot(xaxis, random_accuracies*100, color = 'green', label = 'Random Pruning')\n",
        "\n",
        "ax.set_xlabel('Number of heads pruned')\n",
        "ax.set_ylabel('Accuracy')\n",
        "ax.legend(loc = 'best')\n",
        "\n",
        "ax1 = plt.subplot(1,2,2)\n",
        "ax1.set_ylim(80, 90)\n",
        "\n",
        "ax1.plot(xaxis[:20], (rsa_accuracies*100)[:20], label = 'REST-SEP Pruning')\n",
        "ax1.plot(xaxis[:20], (head_imp_accuracies*100)[:20], color = 'red', label = 'Head Imp pruning')\n",
        "ax1.plot(xaxis[:20], (random_accuracies*100)[:20], color = 'green', label = 'Random Pruning')\n",
        "\n",
        "ax1.set_xlabel('Number of heads pruned')\n",
        "ax1.set_ylabel('Accuracy')\n",
        "ax1.legend(loc = 'best')"
      ],
      "execution_count": 32,
      "outputs": [
        {
          "output_type": "execute_result",
          "data": {
            "text/plain": [
              "<matplotlib.legend.Legend at 0x7f17a064a790>"
            ]
          },
          "metadata": {
            "tags": []
          },
          "execution_count": 32
        },
        {
          "output_type": "display_data",
          "data": {
            "image/png": "[encoded data removed]",
            "text/plain": [
              "<Figure size 1440x360 with 2 Axes>"
            ]
          },
          "metadata": {
            "tags": []
          }
        }
      ]
    },
    {
      "cell_type": "code",
      "metadata": {
        "id": "IU4paTq9WZSc"
      },
      "source": [
        ""
      ],
      "execution_count": null,
      "outputs": []
    }
  ]
}